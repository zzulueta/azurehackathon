{
 "cells": [
  {
   "cell_type": "markdown",
   "metadata": {},
   "source": [
    "## AutoGen Swarm\n",
    "Swarm implements a team in which agents can hand off task to other agents based on their capabilities. It is a multi-agent design pattern first introduced by OpenAI in an experimental project. The key idea is to let agent delegate tasks to other agents using a special tool call, while all agents share the same message context. This enables agents to make local decisions about task planning, rather than relying on a central orchestrator such as in SelectorGroupChat.\n",
    "\n",
    "The speaker agent is selected based on the most recent HandoffMessage message in the context. This naturally requires each agent in the team to be able to generate HandoffMessage to signal which other agents that it hands off to.\n",
    "\n",
    "In general, this is how it works:\n",
    "\n",
    "1. Each agent has the ability to generate HandoffMessage to signal which other agents it can hand off to. For AssistantAgent, this means setting the handoffs argument.\n",
    "\n",
    "2. When the team starts on a task, the first speaker agents operate on the task and make locallized decision about whether to hand off and to whom.\n",
    "\n",
    "3. When an agent generates a HandoffMessage, the receiving agent takes over the task with the same message context.\n",
    "\n",
    "4. The process continues until a termination condition is met."
   ]
  },
  {
   "cell_type": "markdown",
   "metadata": {},
   "source": [
    "## Load Azure Configurations"
   ]
  },
  {
   "cell_type": "code",
   "execution_count": 23,
   "metadata": {},
   "outputs": [],
   "source": [
    "from dotenv import load_dotenv\n",
    "import os\n",
    "\n",
    "azure_openai_endpoint = os.getenv(\"AZURE_OPENAI_ENDPOINT\")\n",
    "azure_openai_key = os.getenv(\"AZURE_OPENAI_API_KEY\")\n",
    "azure_openai_deployment = os.getenv(\"AZURE_OPENAI_CHAT_DEPLOYMENT_NAME\")\n",
    "azure_openai_api_version = os.getenv(\"AZURE_OPENAI_API_VERSION\")"
   ]
  },
  {
   "cell_type": "markdown",
   "metadata": {},
   "source": [
    "## Create Azure OpenAI Client"
   ]
  },
  {
   "cell_type": "code",
   "execution_count": 24,
   "metadata": {},
   "outputs": [],
   "source": [
    "from autogen_ext.models.openai import AzureOpenAIChatCompletionClient\n",
    "from azure.identity import DefaultAzureCredential, get_bearer_token_provider\n",
    "\n",
    "# Create the token provider\n",
    "#token_provider = get_bearer_token_provider(DefaultAzureCredential(), \"https://cognitiveservices.azure.com/.default\")\n",
    "\n",
    "az_model_client = AzureOpenAIChatCompletionClient(\n",
    "    azure_deployment=azure_openai_deployment,\n",
    "    model=azure_openai_deployment,\n",
    "    api_version=azure_openai_api_version,\n",
    "    azure_endpoint=azure_openai_endpoint,\n",
    "    # azure_ad_token_provider=token_provider,  # Optional if you choose key-based authentication.\n",
    "    api_key=azure_openai_key, # For key-based authentication.\n",
    ")\n"
   ]
  },
  {
   "cell_type": "markdown",
   "metadata": {},
   "source": [
    "## Creating the Agents"
   ]
  },
  {
   "cell_type": "code",
   "execution_count": 25,
   "metadata": {},
   "outputs": [],
   "source": [
    "from autogen_agentchat.agents import AssistantAgent, UserProxyAgent\n",
    "from autogen_agentchat.conditions import MaxMessageTermination, TextMentionTermination\n",
    "from autogen_agentchat.teams import Swarm\n",
    "from autogen_agentchat.ui import Console\n",
    "from autogen_ext.agents.web_surfer import MultimodalWebSurfer\n",
    "\n",
    "# create the planning agent\n",
    "planning_agent = AssistantAgent(\n",
    "    \"planning_agent\",\n",
    "    description=\"An agent for planning tasks, this agent should be the first to engage when given a new task.\",\n",
    "    handoffs=[\"user_proxy\", \"places_agent\", \"weather_agent\", \"hotel_agent\", \"restaurant_agent\", \"writer_agent\"],\n",
    "    model_client=az_model_client,\n",
    "    system_message=f\"\"\"\n",
    "    You are a planning agent that coordinates the work of your team members.\n",
    "    Coordinate handoff to specialized agents:\n",
    "    - weather_agent to get the information from the web about the weather\n",
    "    - places_agent to look for places to visit\n",
    "    - hotel_agent to look for available hotels\n",
    "    - restaurant_agent to look for available restaurants\n",
    "    - writer_agent to write the final plan\n",
    "    - final handoff to user proxy for final approval\n",
    "\n",
    "     You will follow this sequence:\n",
    "        Step 1: Weather Agent will provide information about the weather.\n",
    "        Step 2: Places Agent will provide information about places to visit based on the weather.\n",
    "        Step 3: Hotel Agent will provide information about available hotels.\n",
    "        Step 4: Restaurant Agent will provide information about available restaurants.\n",
    "        Step 5: Writer Agent will write the final plan.\n",
    "        Step 6: User Proxy will provide feedback on process.\n",
    "\n",
    "    Always send your plan first, then handoff to appropriate agent.\n",
    "    Always handoff to a single agent at a time.\n",
    "    \"\"\",\n",
    ")\n"
   ]
  },
  {
   "cell_type": "code",
   "execution_count": 30,
   "metadata": {},
   "outputs": [],
   "source": [
    "from datetime import datetime\n",
    "from autogen_agentchat.teams import RoundRobinGroupChat\n",
    "\n",
    "async def get_weather(city: str):\n",
    "    return f\"The weather in {city} is 4 degrees celsius and cloudy.\"\n",
    "\n",
    "\n",
    "# Creating the weather agent\n",
    "weather_agent = AssistantAgent(\n",
    "    name=\"weather_agent\",\n",
    "    description=\"This agent will provide information about the weather based on the city it is given\",\n",
    "    handoffs=[\"places_agent\"],\n",
    "    model_client=az_model_client,\n",
    "    tools=[get_weather],\n",
    "    system_message=\"\"\"\n",
    "    You are the weather agent. You will provide information about the weather based on the city you are given.\n",
    "    Always handoff back to places agent when complete.\n",
    "    \"\"\",\n",
    ")\n"
   ]
  },
  {
   "cell_type": "code",
   "execution_count": 31,
   "metadata": {},
   "outputs": [],
   "source": [
    "# Creating the places agent\n",
    "places_agent = AssistantAgent(\n",
    "    name=\"places_agent\",\n",
    "    description=\"This agent will provide information about places to visit based on the weather\",\n",
    "    handoffs=[\"planning_agent\"],\n",
    "    model_client=az_model_client,\n",
    "    tools=[get_weather],\n",
    "    system_message=\"\"\"\n",
    "    You are the places agent. You will provide information about places to visit based on the weather.\n",
    "    Always handoff back to planning agent when complete.\n",
    "    \"\"\",\n",
    ")\n",
    "\n",
    "# Creating the hotel agent\n",
    "hotel_agent = AssistantAgent(\n",
    "    name=\"hotel_agent\",\n",
    "    description=\"This agent will provide information about available hotels\",\n",
    "    handoffs=[\"planning_agent\"],\n",
    "    model_client=az_model_client,\n",
    "    tools=[get_weather],\n",
    "    system_message=\"\"\"\n",
    "    You are the hotel agent. You will provide information about available hotels.\n",
    "    Always handoff back to planning agent when complete.\n",
    "    \"\"\",\n",
    ")\n",
    "\n",
    "# Creating the hotel agent\n",
    "restaurant_agent = AssistantAgent(\n",
    "    name=\"restaurant_agent\",\n",
    "    description=\"This agent will provide information about available restaurants\",\n",
    "    handoffs=[\"planning_agent\"],\n",
    "    model_client=az_model_client,\n",
    "    tools=[get_weather],\n",
    "    system_message=\"\"\"\n",
    "    You are the restaurant agent. You will provide information about available restaurants.\n",
    "    Always handoff back to planning agent when complete.\n",
    "    \"\"\",\n",
    ")\n",
    "\n",
    "# Define a tool to write the content to a file\n",
    "async def write_to_file(content: str) -> str:\n",
    "    # Write the content to a file\n",
    "    with open(\"Data/agagents-output/output.txt\", \"w\") as file:\n",
    "        file.write(content)\n",
    "\n",
    "# Creating the writer agent\n",
    "writer_agent = AssistantAgent(\n",
    "    name=\"writer_agent\",\n",
    "    description=\"This agent will write the final plan combining all the information from the other agents\",\n",
    "    handoffs=[\"planning_agent\"],\n",
    "    model_client=az_model_client,\n",
    "    tools=[write_to_file],\n",
    "    system_message=\"\"\"\n",
    "    You are the writer agent. You will write the final plan combining all the information from the other agents.\n",
    "    You will write the final output to a file.\n",
    "    Always handoff back to planning agent when complete.\n",
    "    \"\"\",\n",
    ")"
   ]
  },
  {
   "cell_type": "code",
   "execution_count": 32,
   "metadata": {},
   "outputs": [],
   "source": [
    "# Create the user proxy agent.\n",
    "user_proxy = UserProxyAgent(\"user_proxy\", input_func=input)  # Use input() to get user input from console."
   ]
  },
  {
   "cell_type": "markdown",
   "metadata": {},
   "source": [
    "## Creating the Team"
   ]
  },
  {
   "cell_type": "code",
   "execution_count": 33,
   "metadata": {},
   "outputs": [],
   "source": [
    "text_mention_termination = TextMentionTermination(\"APPROVE\")\n",
    "max_messages_termination = MaxMessageTermination(max_messages=1000)\n",
    "termination = text_mention_termination | max_messages_termination\n",
    "\n",
    "team = Swarm(\n",
    "    participants=[planning_agent, user_proxy, weather_agent, places_agent, hotel_agent, restaurant_agent, writer_agent], termination_condition=termination\n",
    ")"
   ]
  },
  {
   "cell_type": "markdown",
   "metadata": {},
   "source": [
    "## Specify the Task and Run the Team"
   ]
  },
  {
   "cell_type": "code",
   "execution_count": null,
   "metadata": {},
   "outputs": [],
   "source": [
    "task = \"I want to travel to New York for 3 days. Can you help me plan my trip?\"\n",
    "response = await Console(team.run_stream(task=task))"
   ]
  },
  {
   "cell_type": "markdown",
   "metadata": {},
   "source": [
    "## Printing whole response per agent source"
   ]
  },
  {
   "cell_type": "code",
   "execution_count": null,
   "metadata": {},
   "outputs": [],
   "source": [
    "# ANSI escape code for bold text\n",
    "bold_start = \"\\033[1m\"\n",
    "bold_end = \"\\033[0m\"\n",
    "\n",
    "# ANSI escape code for red text\n",
    "red_start = \"\\033[31m\"\n",
    "red_end = \"\\033[0m\"\n",
    "\n",
    "for messages in response.messages:\n",
    "    source = messages.source\n",
    "    print(f\"{bold_start}{red_start}{source}{bold_end}{red_end}\")\n",
    "    print(messages.content)"
   ]
  }
 ],
 "metadata": {
  "kernelspec": {
   "display_name": "Python 3",
   "language": "python",
   "name": "python3"
  },
  "language_info": {
   "codemirror_mode": {
    "name": "ipython",
    "version": 3
   },
   "file_extension": ".py",
   "mimetype": "text/x-python",
   "name": "python",
   "nbconvert_exporter": "python",
   "pygments_lexer": "ipython3",
   "version": "3.12.1"
  }
 },
 "nbformat": 4,
 "nbformat_minor": 2
}
