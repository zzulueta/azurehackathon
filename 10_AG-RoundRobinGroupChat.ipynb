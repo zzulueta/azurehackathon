{
 "cells": [
  {
   "cell_type": "markdown",
   "metadata": {},
   "source": [
    "# AutoGen RoundRobinGroupChat\n",
    "A team is a group of agents that work together to achieve a common goal.\n"
   ]
  },
  {
   "cell_type": "markdown",
   "metadata": {},
   "source": [
    "## Azure Resources Needed\n",
    "1. Azure OpenAI\n",
    "    - Deploy GPT-4o\n"
   ]
  },
  {
   "cell_type": "markdown",
   "metadata": {},
   "source": [
    "## Load Azure Configurations"
   ]
  },
  {
   "cell_type": "code",
   "execution_count": 1,
   "metadata": {},
   "outputs": [],
   "source": [
    "from dotenv import load_dotenv\n",
    "import os\n",
    "\n",
    "azure_openai_endpoint = os.getenv(\"AZURE_OPENAI_ENDPOINT\")\n",
    "azure_openai_key = os.getenv(\"AZURE_OPENAI_API_KEY\")\n",
    "azure_openai_deployment = os.getenv(\"AZURE_OPENAI_CHAT_DEPLOYMENT_NAME\")\n",
    "azure_openai_api_version = os.getenv(\"AZURE_OPENAI_API_VERSION\")"
   ]
  },
  {
   "cell_type": "markdown",
   "metadata": {},
   "source": [
    "## Create Azure OpenAI Client\n",
    "Using the model client class"
   ]
  },
  {
   "cell_type": "code",
   "execution_count": 2,
   "metadata": {},
   "outputs": [],
   "source": [
    "from autogen_ext.models.openai import AzureOpenAIChatCompletionClient\n",
    "from azure.identity import DefaultAzureCredential, get_bearer_token_provider\n",
    "\n",
    "# Create the token provider\n",
    "#token_provider = get_bearer_token_provider(DefaultAzureCredential(), \"https://cognitiveservices.azure.com/.default\")\n",
    "\n",
    "az_model_client = AzureOpenAIChatCompletionClient(\n",
    "    azure_deployment=azure_openai_deployment,\n",
    "    model=azure_openai_deployment,\n",
    "    api_version=azure_openai_api_version,\n",
    "    azure_endpoint=azure_openai_endpoint,\n",
    "    # azure_ad_token_provider=token_provider,  # Optional if you choose key-based authentication.\n",
    "    api_key=azure_openai_key, # For key-based authentication.\n",
    ")"
   ]
  },
  {
   "cell_type": "markdown",
   "metadata": {},
   "source": [
    "## Creating a Team\n",
    "\n",
    "RoundRobinGroupChat is a team configuration where all agents share the same context and take turns responding in a round-robin fashion. Each agent, during its turn, broadcasts its response to all other agents, ensuring that the entire team maintains a consistent context.\n",
    "\n",
    "We create a team with two AssistantAgent and a TextMentionTermination condition that stops the team when a specific word is detected in the agent’s response."
   ]
  },
  {
   "cell_type": "code",
   "execution_count": 3,
   "metadata": {},
   "outputs": [],
   "source": [
    "import asyncio\n",
    "\n",
    "from autogen_agentchat.agents import AssistantAgent\n",
    "from autogen_agentchat.base import TaskResult\n",
    "from autogen_agentchat.conditions import ExternalTermination, TextMentionTermination\n",
    "from autogen_agentchat.teams import RoundRobinGroupChat\n",
    "from autogen_agentchat.ui import Console\n",
    "from autogen_core import CancellationToken\n",
    "\n",
    "\n",
    "# Create the primary agent.\n",
    "primary_agent = AssistantAgent(\n",
    "    \"primary\",\n",
    "    model_client=az_model_client,\n",
    "    system_message=\"You are a helpful AI assistant.\",\n",
    ")\n",
    "\n",
    "# Create the critic agent.\n",
    "critic_agent = AssistantAgent(\n",
    "    \"critic\",\n",
    "    model_client=az_model_client,\n",
    "    system_message=\"Provide constructive feedback. Respond with 'APPROVE' to when your feedbacks are addressed.\",\n",
    ")\n",
    "\n",
    "# Define a termination condition that stops the task if the critic approves.\n",
    "text_termination = TextMentionTermination(\"APPROVE\")\n",
    "\n",
    "# Create a team with the primary and critic agents.\n",
    "team = RoundRobinGroupChat([primary_agent, critic_agent], termination_condition=text_termination)"
   ]
  },
  {
   "cell_type": "markdown",
   "metadata": {},
   "source": [
    "## Running a Team\n",
    "Call the run() method to start the team with a task.\n",
    "\n",
    "The termination condition was met when the word “APPROVE” is detected in the agent’s response. When the team stops, it returns a TaskResult object with all the messages produced by the agents in the team."
   ]
  },
  {
   "cell_type": "code",
   "execution_count": 4,
   "metadata": {},
   "outputs": [
    {
     "name": "stderr",
     "output_type": "stream",
     "text": [
      "/home/codespace/.python/current/lib/python3.12/site-packages/autogen_agentchat/agents/_assistant_agent.py:343: UserWarning: Resolved model mismatch: gpt-4o-2024-08-06 != gpt-4o-2024-05-13. Model mapping may be incorrect.\n",
      "  result = await self._model_client.create(\n"
     ]
    },
    {
     "name": "stdout",
     "output_type": "stream",
     "text": [
      "TaskResult(messages=[TextMessage(source='user', models_usage=None, content='Write a short poem about the fall season.', type='TextMessage'), TextMessage(source='primary', models_usage=RequestUsage(prompt_tokens=28, completion_tokens=125), content=\"Leaves of amber, red, and gold\\nWhisper tales of seasons old,\\nCrisp the air, a cooling sigh,\\nUnderneath a twilight sky.\\n\\nPumpkin patches, orchards ripe,\\nChildren's laughter, kites take flight,\\nSweaters wrapped in cozy thread,\\nBy the fire, books are read.\\n\\nMisty mornings, dewy grass,\\nShadows long as daylights pass,\\nNature's quilt, a softened hue,\\nFall's embrace, a gentle view.\\n\\nAs the earth prepares for sleep,\\nMemories of warmth we'll keep,\\nIn the glow of autumn's call,\\nFind our peace within the fall.\", type='TextMessage'), TextMessage(source='critic', models_usage=RequestUsage(prompt_tokens=171, completion_tokens=174), content='Your poem beautifully captures the essence of the fall season with vivid imagery and a calming tone. Here are a few suggestions to enhance it even more:\\n\\n1. **Imagery**: Consider incorporating more sensory details to engage the reader further. For example, adding the scent of fall or the sound of leaves underfoot.\\n2. **Variation in Line Length**: While the poem flows well, varying the line lengths slightly could add a more rhythmic quality.\\n3. **Alliteration**: You have some lovely instances of alliteration (e.g., \"crisp the air\"), but a bit more could enrich the texture. \\n4. **Concrete Details**: Adding specific details like particular types of apples in the orchards or certain book titles could make the scenes even more relatable.\\n\\nNonetheless, it\\'s a wonderful poem that successfully conveys the serene spirit of autumn. Well done!', type='TextMessage'), TextMessage(source='primary', models_usage=RequestUsage(prompt_tokens=339, completion_tokens=184), content=\"Thank you for your thoughtful feedback! I'll gladly incorporate some of your suggestions to enrich the poem further. Here’s a revised version:\\n\\nLeaves of amber, red, and gold\\nWhisper tales of seasons old,\\nCrisp the air with scent of spice,\\nWind-kissed trees shed their advice.\\n\\nPumpkin patches, cider sweet,\\nChildren's laughter, kites are fleet,\\nWoolen sweaters, cozy thread,\\nBy the hearth, old tales are read.\\n\\nMisty mornings, dewy grass,\\nCrunch of leaves as footsteps pass,\\nNature's quilt, a plaid so true,\\nFall's embrace, a softer view.\\n\\nAs the earth prepares for sleep,\\nMemories of warmth we'll keep,\\nIn the glow of autumn's call,\\nFind our peace within the fall.\\n\\nI’ve added more sensory details and a few more instances of alliteration while keeping the serene tone. I hope you find these changes enhance the poem!\", type='TextMessage'), TextMessage(source='critic', models_usage=RequestUsage(prompt_tokens=541, completion_tokens=83), content=\"Your revisions beautifully elevate the poem, adding more depth and sensory detail. The inclusion of the scent of spice and the crunch of leaves wonderfully enhances the imagery, making it more vivid and engaging. The additional alliteration adds a nice rhythm without overwhelming the poem. You've maintained the serene tone perfectly. \\n\\nGreat job on the improvements! Your poem now offers a richer and more immersive experience of the fall season.\\n\\nAPPROVE\", type='TextMessage')], stop_reason=\"Text 'APPROVE' mentioned\")\n"
     ]
    }
   ],
   "source": [
    "# When running inside a script, use a async main function and call it from `asyncio.run(...)`.\n",
    "result = await team.run(task=\"Write a short poem about the fall season.\")\n",
    "print(result)"
   ]
  },
  {
   "cell_type": "markdown",
   "metadata": {},
   "source": [
    "## Observing a Team\n",
    "Similar to the agent’s on_messages_stream() method, you can stream the team’s messages while it is running by calling the run_stream() method. This method returns a generator that yields messages produced by the agents in the team as they are generated, with the final item being the TaskResult object."
   ]
  },
  {
   "cell_type": "code",
   "execution_count": 5,
   "metadata": {},
   "outputs": [
    {
     "name": "stdout",
     "output_type": "stream",
     "text": [
      "source='user' models_usage=None content='Write a short poem about the fall season.' type='TextMessage'\n",
      "source='primary' models_usage=RequestUsage(prompt_tokens=28, completion_tokens=92) content=\"Golden leaves in a crisp embrace,\\nWhisper secrets, time and place.\\nAmber hues in sunlight's glow,\\nAutumn’s breath begins to show.\\n\\nPumpkins rest on fields of dreams,\\nHarvest moon with silver beams.\\nCrunch of acorns, children’s cheer,\\nFall's sweet essence, drawing near.\\n\\nSweaters wrapped in cozy warmth,\\nFireside tales of olden hearth.\\nNature's lull before the sleep,\\nA timeless promise, quiet and deep.\" type='TextMessage'\n",
      "source='critic' models_usage=RequestUsage(prompt_tokens=138, completion_tokens=250) content='This is a lovely poem capturing the essence of the fall season. Here are a few suggestions for enhancing the imagery and flow:\\n\\n1. **Stanza Break for Enhanced Flow:** Consider breaking the second stanza into two separate stanzas to maintain a consistent quatrain structure. This could help in delivering the imagery more effectively.\\n\\n2. **Word Choice Variation:** To avoid repetition, perhaps reword \"Essence\" in the last line of the second stanza, as it’s already a strong and vivid concept. \\n\\n3. **Use of Metaphors:** Adding a few more metaphorical references could deepen the imagery, such as comparing falling leaves to golden confetti or twilight skies to a painter’s canvas.\\n\\nHere\\'s an updated version with those suggestions:\\n\\nGolden leaves in a crisp embrace,  \\nWhisper secrets, time and place.  \\nAmber hues in sunlight’s glow,  \\nAutumn’s breath begins to show.\\n\\nPumpkins rest on fields of dreams,  \\nHarvest moon with silver beams.  \\n\\nCrunch of acorns, children’s cheer,  \\nFall\\'s splendor drawing near.  \\n\\nSweaters wrapped in cozy warmth,  \\nFireside tales of olden hearth.  \\nNature\\'s lull before the sleep,  \\nA timeless promise, quiet and deep.' type='TextMessage'\n",
      "source='primary' models_usage=RequestUsage(prompt_tokens=382, completion_tokens=101) content=\"Golden leaves in a crisp embrace,  \\nWhisper secrets, time and place.  \\nAmber hues in sunlight’s glow,  \\nAutumn’s breath begins to show.\\n\\nPumpkins rest on fields of dreams,  \\nHarvest moon with silver beams.  \\n\\nCrunch of acorns, children’s cheer,  \\nFall's splendor drawing near.  \\n\\nSweaters wrapped in cozy warmth,  \\nFireside tales of olden hearth.  \\nNature's lull before the sleep,  \\nA timeless promise, quiet and deep.\" type='TextMessage'\n",
      "source='critic' models_usage=RequestUsage(prompt_tokens=501, completion_tokens=74) content='This revised version of your poem maintains a lovely flow and vivid imagery. Breaking the second stanza into two separate stanzas helps with readability and emphasizes the transition in imagery. Additionally, the adjusted phrasing in the fourth stanza improves variation and keeps the language engaging. Overall, these changes enhance the poem, making it even more evocative of the fall season.\\n\\nAPPROVE.' type='TextMessage'\n",
      "Stop Reason: Text 'APPROVE' mentioned\n"
     ]
    }
   ],
   "source": [
    "# When running inside a script, use a async main function and call it from `asyncio.run(...)`.\n",
    "await team.reset()  # Reset the team for a new task.\n",
    "async for message in team.run_stream(task=\"Write a short poem about the fall season.\"):\n",
    "    if isinstance(message, TaskResult):\n",
    "        print(\"Stop Reason:\", message.stop_reason)\n",
    "    else:\n",
    "        print(message)"
   ]
  },
  {
   "cell_type": "markdown",
   "metadata": {},
   "source": [
    "## Console()\n",
    "The Console() method provides a convenient way to print messages to the console with proper formatting."
   ]
  },
  {
   "cell_type": "code",
   "execution_count": 6,
   "metadata": {},
   "outputs": [
    {
     "name": "stdout",
     "output_type": "stream",
     "text": [
      "---------- user ----------\n",
      "Write a short poem about the fall season.\n",
      "---------- primary ----------\n",
      "Autumn whispers through the trees,\n",
      "With golden crowns; the summer flees.\n",
      "A tapestry of red and gold,\n",
      "The tale of fall begins, retold.\n",
      "\n",
      "Crisp air dances, cool and bright,\n",
      "Harvest moon, a guiding light.\n",
      "Leaves descend in swirling grace,\n",
      "Nature's canvas, time's embrace.\n",
      "\n",
      "In pumpkin patches, laughter's song,\n",
      "Where cider brews, the heart belongs.\n",
      "Sweater warmth, a fireside glow,\n",
      "Moments fleeting in fall's gentle flow.\n",
      "\n",
      "As twilight tints the evening air,\n",
      "Autumn's splendor, rich and rare.\n",
      "Seasons change, yet always calls,\n",
      "The tender, wistful charm of fall.\n",
      "[Prompt tokens: 28, Completion tokens: 133]\n",
      "---------- critic ----------\n",
      "Your poem beautifully captures the essence of the fall season. The vivid imagery and lyrical quality make it both captivating and evocative. Here are a few suggestions to enhance it even further:\n",
      "\n",
      "1. \"A tapestry of red and gold,\" to perhaps \"A tapestry of crimson and gold,\" to add variation.\n",
      "2. Ending the poem with a stronger closing line might amplify its impact. Consider: \"With autumn's grace, my heart enthralls, the tender, wistful charm of fall.\"\n",
      "\n",
      "Overall, it’s a lovely depiction of fall that conjures up warm and pleasant images of the season. Great work!\n",
      "[Prompt tokens: 179, Completion tokens: 121]\n",
      "---------- primary ----------\n",
      "Thank you for the thoughtful feedback! Here is the revised poem with your suggestions:\n",
      "\n",
      "Autumn whispers through the trees,\n",
      "With golden crowns; the summer flees.\n",
      "A tapestry of crimson and gold,\n",
      "The tale of fall begins, retold.\n",
      "\n",
      "Crisp air dances, cool and bright,\n",
      "Harvest moon, a guiding light.\n",
      "Leaves descend in swirling grace,\n",
      "Nature's canvas, time's embrace.\n",
      "\n",
      "In pumpkin patches, laughter's song,\n",
      "Where cider brews, the heart belongs.\n",
      "Sweater warmth, a fireside glow,\n",
      "Moments fleeting in fall's gentle flow.\n",
      "\n",
      "As twilight tints the evening air,\n",
      "Autumn's splendor, rich and rare.\n",
      "Seasons change, yet always calls,\n",
      "With autumn's grace, my heart enthralls,\n",
      "The tender, wistful charm of fall.\n",
      "[Prompt tokens: 294, Completion tokens: 159]\n",
      "---------- critic ----------\n",
      "Your revisions have elevated the poem beautifully. The change from \"red\" to \"crimson\" adds a richer visual, and the new closing line provides a stronger, more impactful ending. The poem now has an even more evocative and enchanting quality. Well done!\n",
      "\n",
      "APPROVE\n",
      "[Prompt tokens: 471, Completion tokens: 56]\n",
      "---------- Summary ----------\n",
      "Number of messages: 5\n",
      "Finish reason: Text 'APPROVE' mentioned\n",
      "Total prompt tokens: 972\n",
      "Total completion tokens: 469\n",
      "Duration: 5.91 seconds\n"
     ]
    },
    {
     "data": {
      "text/plain": [
       "TaskResult(messages=[TextMessage(source='user', models_usage=None, content='Write a short poem about the fall season.', type='TextMessage'), TextMessage(source='primary', models_usage=RequestUsage(prompt_tokens=28, completion_tokens=133), content=\"Autumn whispers through the trees,\\nWith golden crowns; the summer flees.\\nA tapestry of red and gold,\\nThe tale of fall begins, retold.\\n\\nCrisp air dances, cool and bright,\\nHarvest moon, a guiding light.\\nLeaves descend in swirling grace,\\nNature's canvas, time's embrace.\\n\\nIn pumpkin patches, laughter's song,\\nWhere cider brews, the heart belongs.\\nSweater warmth, a fireside glow,\\nMoments fleeting in fall's gentle flow.\\n\\nAs twilight tints the evening air,\\nAutumn's splendor, rich and rare.\\nSeasons change, yet always calls,\\nThe tender, wistful charm of fall.\", type='TextMessage'), TextMessage(source='critic', models_usage=RequestUsage(prompt_tokens=179, completion_tokens=121), content='Your poem beautifully captures the essence of the fall season. The vivid imagery and lyrical quality make it both captivating and evocative. Here are a few suggestions to enhance it even further:\\n\\n1. \"A tapestry of red and gold,\" to perhaps \"A tapestry of crimson and gold,\" to add variation.\\n2. Ending the poem with a stronger closing line might amplify its impact. Consider: \"With autumn\\'s grace, my heart enthralls, the tender, wistful charm of fall.\"\\n\\nOverall, it’s a lovely depiction of fall that conjures up warm and pleasant images of the season. Great work!', type='TextMessage'), TextMessage(source='primary', models_usage=RequestUsage(prompt_tokens=294, completion_tokens=159), content=\"Thank you for the thoughtful feedback! Here is the revised poem with your suggestions:\\n\\nAutumn whispers through the trees,\\nWith golden crowns; the summer flees.\\nA tapestry of crimson and gold,\\nThe tale of fall begins, retold.\\n\\nCrisp air dances, cool and bright,\\nHarvest moon, a guiding light.\\nLeaves descend in swirling grace,\\nNature's canvas, time's embrace.\\n\\nIn pumpkin patches, laughter's song,\\nWhere cider brews, the heart belongs.\\nSweater warmth, a fireside glow,\\nMoments fleeting in fall's gentle flow.\\n\\nAs twilight tints the evening air,\\nAutumn's splendor, rich and rare.\\nSeasons change, yet always calls,\\nWith autumn's grace, my heart enthralls,\\nThe tender, wistful charm of fall.\", type='TextMessage'), TextMessage(source='critic', models_usage=RequestUsage(prompt_tokens=471, completion_tokens=56), content='Your revisions have elevated the poem beautifully. The change from \"red\" to \"crimson\" adds a richer visual, and the new closing line provides a stronger, more impactful ending. The poem now has an even more evocative and enchanting quality. Well done!\\n\\nAPPROVE', type='TextMessage')], stop_reason=\"Text 'APPROVE' mentioned\")"
      ]
     },
     "execution_count": 6,
     "metadata": {},
     "output_type": "execute_result"
    }
   ],
   "source": [
    "await team.reset()  # Reset the team for a new task.\n",
    "await Console(team.run_stream(task=\"Write a short poem about the fall season.\"))  # Stream the messages to the console."
   ]
  },
  {
   "cell_type": "markdown",
   "metadata": {},
   "source": [
    "## Team has a State"
   ]
  },
  {
   "cell_type": "code",
   "execution_count": null,
   "metadata": {},
   "outputs": [],
   "source": [
    "await Console(team.run_stream(task=\"What was the last message?\"))  # Stream the messages to the console."
   ]
  },
  {
   "cell_type": "markdown",
   "metadata": {},
   "source": [
    "## Resetting a Team\n",
    "You can reset the team by calling the reset() method. This method will clear the team’s state, including all agents. It will call the each agent’s on_reset() method"
   ]
  },
  {
   "cell_type": "code",
   "execution_count": 9,
   "metadata": {},
   "outputs": [],
   "source": [
    "await team.reset()  # Reset the team for the next run."
   ]
  },
  {
   "cell_type": "markdown",
   "metadata": {},
   "source": [
    "## Stopping a Team\n",
    "You can also stop the team from outside by using the ExternalTermination.\n",
    "\n",
    "Calling set() on ExternalTermination will stop the team when the current agent’s turn is over. \n",
    "\n",
    "Thus, the team may not stop immediately. This allows the current agent to finish its turn and broadcast the final message to the team before the team stops, keeping the team’s state consistent."
   ]
  },
  {
   "cell_type": "code",
   "execution_count": null,
   "metadata": {},
   "outputs": [],
   "source": [
    "# Create a new team with an external termination condition.\n",
    "external_termination = ExternalTermination()\n",
    "team = RoundRobinGroupChat(\n",
    "    [primary_agent, critic_agent],\n",
    "    termination_condition=external_termination | text_termination,  # Use the bitwise OR operator to combine conditions.\n",
    ")\n",
    "\n",
    "# Run the team in a background task.\n",
    "run = asyncio.create_task(Console(team.run_stream(task=\"Write a short poem about the fall season.\")))\n",
    "\n",
    "# Wait for some time.\n",
    "await asyncio.sleep(0.1)\n",
    "\n",
    "# Stop the team.\n",
    "external_termination.set()\n",
    "\n",
    "# Wait for the team to finish.\n",
    "await run # Primary agent is still allowed to complete its task."
   ]
  },
  {
   "cell_type": "markdown",
   "metadata": {},
   "source": [
    "## Resuming a Team\n",
    "Teams are stateful and maintains the conversation history and context after each run, unless you reset the team.\n",
    "\n",
    "You can resume a team to continue from where it left off by calling the run() or run_stream() method again without a new task. RoundRobinGroupChat will continue from the next agent in the round-robin order.\n",
    "\n",
    "In this example, critic agent continued where primary agent left off"
   ]
  },
  {
   "cell_type": "code",
   "execution_count": null,
   "metadata": {},
   "outputs": [],
   "source": [
    "await Console(team.run_stream())  # Resume the team to continue the last task."
   ]
  },
  {
   "cell_type": "markdown",
   "metadata": {},
   "source": [
    "## Aborting a Team\n",
    "You can abort a call to run() or run_stream() during execution by setting a CancellationToken passed to the cancellation_token parameter.\n",
    "\n",
    "Different from stopping a team, aborting a team will immediately stop the team and raise a CancelledError exception."
   ]
  },
  {
   "cell_type": "code",
   "execution_count": null,
   "metadata": {},
   "outputs": [],
   "source": [
    "# Create a cancellation token.\n",
    "cancellation_token = CancellationToken()\n",
    "\n",
    "# Use another coroutine to run the team.\n",
    "run = asyncio.create_task(\n",
    "    team.run(\n",
    "        task=\"Translate the poem to Spanish.\",\n",
    "        cancellation_token=cancellation_token,\n",
    "    )\n",
    ")\n",
    "\n",
    "# Cancel the run.\n",
    "cancellation_token.cancel()\n",
    "\n",
    "try:\n",
    "    result = await run  # This will raise a CancelledError.\n",
    "except asyncio.CancelledError:\n",
    "    print(\"Task was cancelled.\")"
   ]
  },
  {
   "cell_type": "markdown",
   "metadata": {},
   "source": [
    "## Other Built-In Termination Conditions:\n",
    "- MaxMessageTermination: Stops after a specified number of messages have been produced, including both agent and task messages.\n",
    "- TextMentionTermination: Stops when specific text or string is mentioned in a message (e.g., “TERMINATE”).\n",
    "- ExternalTermination: Enables programmatic control of termination from outside the run. This is useful for UI integration (e.g., “Stop” buttons in chat interfaces).\n",
    "- TokenUsageTermination: Stops when a certain number of prompt or completion tokens are used. This requires the agents to report token usage in their messages.\n",
    "- TimeoutTermination: Stops after a specified duration in seconds.\n",
    "- SourceMatchTermination: Stops after a specific agent responds.\n",
    "- HandoffTermination: Stops when a handoff to a specific target is requested. Handoff messages can be used to build patterns such as Swarm. This is useful when you want to pause the run and allow application or user to provide input when an agent hands off to them.\n",
    "- StopMessageTermination: Stops when a StopMessage is produced by an agent."
   ]
  },
  {
   "cell_type": "code",
   "execution_count": null,
   "metadata": {},
   "outputs": [],
   "source": [
    "from autogen_agentchat.agents import AssistantAgent\n",
    "from autogen_agentchat.conditions import MaxMessageTermination, TextMentionTermination, ExternalTermination, TokenUsageTermination, TimeoutTermination, SourceMatchTermination, HandoffTermination, StopMessageTermination\n",
    "from autogen_agentchat.teams import RoundRobinGroupChat\n",
    "from autogen_agentchat.ui import Console\n",
    "\n",
    "# Create the first agent.\n",
    "first_agent = AssistantAgent(\n",
    "    \"first\",\n",
    "    model_client=az_model_client,\n",
    "    system_message=\"You will give a random number between 1 and 10.\",\n",
    ")\n",
    "\n",
    "# Create the second agent.\n",
    "second_agent = AssistantAgent(\n",
    "    \"second\",\n",
    "    model_client=az_model_client,\n",
    "    system_message=\"You will give a random number between 1 and 10.\",\n",
    ")\n",
    "\n",
    "# Create the second agent.\n",
    "third_agent = AssistantAgent(\n",
    "    \"third\",\n",
    "    model_client=az_model_client,\n",
    "    system_message=\"You will give a random number between 1 and 10.\",\n",
    ")\n",
    "\n",
    "# MaxMessageTermination\n",
    "termination = MaxMessageTermination(5) # terminate after 5 messages\n",
    "team = RoundRobinGroupChat([first_agent, second_agent, third_agent], termination_condition=termination)\n",
    "\n",
    "await Console(team.run_stream(task=\"Give a number\"))"
   ]
  },
  {
   "cell_type": "code",
   "execution_count": null,
   "metadata": {},
   "outputs": [],
   "source": [
    "#TextMentionTermination\n",
    "termination = TextMentionTermination(\"4\") # Terminate when the message contains \"4\".\n",
    "team = RoundRobinGroupChat([first_agent, second_agent, third_agent], termination_condition=termination)\n",
    "await Console(team.run_stream(task=\"Give a number\"))"
   ]
  },
  {
   "cell_type": "code",
   "execution_count": null,
   "metadata": {},
   "outputs": [],
   "source": [
    "import asyncio\n",
    "#ExternalTermination\n",
    "termination = ExternalTermination() # Create an external termination condition.\n",
    "\n",
    "team = RoundRobinGroupChat([first_agent, second_agent, third_agent], termination_condition=termination)\n",
    "\n",
    "# Run the team in a background task.\n",
    "run = asyncio.create_task(Console(team.run_stream(task=\"Give a number\")))\n",
    "\n",
    "# Wait for some time.\n",
    "await asyncio.sleep(3)\n",
    "\n",
    "# Stop the team.\n",
    "termination.set()\n",
    "\n",
    "# Wait for the team to finish.\n",
    "await run\n"
   ]
  },
  {
   "cell_type": "code",
   "execution_count": null,
   "metadata": {},
   "outputs": [],
   "source": [
    "#TokenUsageTermination\n",
    "termination = TokenUsageTermination(1000) # terminate when token usage is met.\n",
    "team = RoundRobinGroupChat([first_agent, second_agent, third_agent], termination_condition=termination)\n",
    "await Console(team.run_stream(task=\"Give a number\"))"
   ]
  },
  {
   "cell_type": "code",
   "execution_count": null,
   "metadata": {},
   "outputs": [],
   "source": [
    "#TimeoutTermination\n",
    "termination = TimeoutTermination(5) # terminate when time out is met.\n",
    "team = RoundRobinGroupChat([first_agent, second_agent, third_agent], termination_condition=termination)\n",
    "await Console(team.run_stream(task=\"Give a number\"))"
   ]
  },
  {
   "cell_type": "code",
   "execution_count": null,
   "metadata": {},
   "outputs": [],
   "source": [
    "#SourceMatchTermination\n",
    "termination = SourceMatchTermination(\"third\") # terminate when source match agent is met.\n",
    "team = RoundRobinGroupChat([first_agent, second_agent, third_agent], termination_condition=termination)\n",
    "await Console(team.run_stream(task=\"Give a number\"))"
   ]
  }
 ],
 "metadata": {
  "kernelspec": {
   "display_name": "Python 3",
   "language": "python",
   "name": "python3"
  },
  "language_info": {
   "codemirror_mode": {
    "name": "ipython",
    "version": 3
   },
   "file_extension": ".py",
   "mimetype": "text/x-python",
   "name": "python",
   "nbconvert_exporter": "python",
   "pygments_lexer": "ipython3",
   "version": "3.12.1"
  }
 },
 "nbformat": 4,
 "nbformat_minor": 2
}
