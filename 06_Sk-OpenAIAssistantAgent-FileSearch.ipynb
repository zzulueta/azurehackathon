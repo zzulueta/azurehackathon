{
 "cells": [
  {
   "cell_type": "markdown",
   "metadata": {},
   "source": [
    "# Semantic Kernel OpenAI Assistant Agent File Search"
   ]
  },
  {
   "cell_type": "markdown",
   "metadata": {},
   "source": [
    "## Prepare the files"
   ]
  },
  {
   "cell_type": "code",
   "execution_count": null,
   "metadata": {},
   "outputs": [],
   "source": [
    "import os\n",
    "\n",
    "file_directory = \"Data/nasabooks\"\n",
    "\n",
    "# List all files in the directory\n",
    "try:\n",
    "    filenames = os.listdir(file_directory)\n",
    "    print(filenames)\n",
    "except FileNotFoundError:\n",
    "    print(f\"Directory '{file_directory}' not found.\")\n",
    "\n",
    "# Get the full path of a file\n",
    "def get_filepath_for_filename(filename: str) -> str:\n",
    "    base_directory = file_directory\n",
    "    return os.path.join(base_directory, filename)\n",
    "\n"
   ]
  },
  {
   "cell_type": "markdown",
   "metadata": {},
   "source": [
    "## Reformat citations with the proper filenames"
   ]
  },
  {
   "cell_type": "code",
   "execution_count": 2,
   "metadata": {},
   "outputs": [],
   "source": [
    "from semantic_kernel.contents.annotation_content import AnnotationContent\n",
    "\n",
    "async def reformat_citations(agent, response):\n",
    "    # Extract the annotations\n",
    "    annotations = [item for item in response.items if isinstance(item, AnnotationContent)]\n",
    "    \n",
    "    # Original response\n",
    "    paragraph = response.content\n",
    "    \n",
    "    # Dictionary to store key-value pairs of text and filename\n",
    "    text_filename_pairs = {}\n",
    "\n",
    "    # Iterate over the annotations and extract the relevant information\n",
    "    for annotation in annotations:\n",
    "        file_id = annotation.file_id\n",
    "        text = annotation.quote\n",
    "        # Retrieve the filename from the file_id\n",
    "        cited_file = await agent.client.files.retrieve(file_id)\n",
    "        filename = cited_file.filename\n",
    "\n",
    "        if text not in text_filename_pairs:\n",
    "            text_filename_pairs[text] = []\n",
    "        text_filename_pairs[text].append(filename)\n",
    "\n",
    "    # Replace the citation texts with their corresponding filenames prefixed with \" Source: \"\n",
    "    for text, filenames in text_filename_pairs.items():\n",
    "        sources = \" Source: \" + \", \".join(filenames)\n",
    "        paragraph = paragraph.replace(text, sources)\n",
    "\n",
    "    return paragraph"
   ]
  },
  {
   "cell_type": "markdown",
   "metadata": {},
   "source": [
    "## Step 1-2: Create an Agent and Thread"
   ]
  },
  {
   "cell_type": "code",
   "execution_count": 3,
   "metadata": {},
   "outputs": [],
   "source": [
    "from semantic_kernel.agents.open_ai.azure_assistant_agent import AzureAssistantAgent\n",
    "from semantic_kernel.contents.chat_message_content import ChatMessageContent\n",
    "from semantic_kernel.contents.utils.author_role import AuthorRole\n",
    "from semantic_kernel.kernel import Kernel\n",
    "\n",
    "# Step 1: Create an assistant agent\n",
    "agent = await AzureAssistantAgent.create(\n",
    "        kernel=Kernel(),\n",
    "        service_id=\"agent\",\n",
    "        name=\"SK_OpenAI_Assistant_Agent_File_Search\",\n",
    "        instructions=\"\"\"\n",
    "            The document store contains pages from a Nasa book.\n",
    "            Always analyze the document store to provide an answer to the user's question.\n",
    "            Never rely on your knowledge of information not included in the document store.\n",
    "            Always format response using markdown.\n",
    "            \"\"\",\n",
    "        enable_file_search=True,\n",
    "        vector_store_filenames=[get_filepath_for_filename(filename) for filename in filenames],\n",
    "    )\n",
    "\n",
    "# Step 2: Create a thread\n",
    "thread_id = await agent.create_thread()"
   ]
  },
  {
   "cell_type": "markdown",
   "metadata": {},
   "source": [
    "## Step 3-6: Helper Function \n",
    "3. Add a message to the thread\n",
    "4. Run the Assistant\n",
    "5. Display the Assistant's Response"
   ]
  },
  {
   "cell_type": "code",
   "execution_count": 4,
   "metadata": {},
   "outputs": [],
   "source": [
    "async def run_agent(user_question):\n",
    "    # STEP 3: Add a user question to the thread\n",
    "    await agent.add_chat_message(\n",
    "            thread_id=thread_id, \n",
    "            message=ChatMessageContent(role=AuthorRole.USER, content=user_question)\n",
    "    )\n",
    "\n",
    "    # STEP 4: Invoke the agent to get a response\n",
    "    async for response in agent.invoke(thread_id=thread_id):\n",
    "        annotations = [item for item in response.items if isinstance(item, AnnotationContent)]\n",
    "        #STEP 5: Print the Assistant response\n",
    "        if annotations is None:\n",
    "            print(f\"{response.content}\", end=\"\", flush=True)\n",
    "        else:\n",
    "            print(f\"{await reformat_citations(agent,response)}\", end=\"\", flush=True)"
   ]
  },
  {
   "cell_type": "code",
   "execution_count": null,
   "metadata": {},
   "outputs": [],
   "source": [
    "user_question = \"How did the wide floodplains in Queensland originate?\"\n",
    "await run_agent(user_question)"
   ]
  },
  {
   "cell_type": "markdown",
   "metadata": {},
   "source": [
    "## Appending Messages to the Thread"
   ]
  },
  {
   "cell_type": "code",
   "execution_count": null,
   "metadata": {},
   "outputs": [],
   "source": [
    "user_question = \"What forms the Lower Amazon River?\"\n",
    "await run_agent(user_question)"
   ]
  },
  {
   "cell_type": "markdown",
   "metadata": {},
   "source": [
    "## Display Chat History"
   ]
  },
  {
   "cell_type": "code",
   "execution_count": null,
   "metadata": {},
   "outputs": [],
   "source": [
    "async for message in agent.get_thread_messages(thread_id):\n",
    "    print(f\"{message.role} : {message.content}\")"
   ]
  },
  {
   "cell_type": "markdown",
   "metadata": {},
   "source": [
    "## Deleting Files, Thread, Agent"
   ]
  },
  {
   "cell_type": "code",
   "execution_count": 8,
   "metadata": {},
   "outputs": [],
   "source": [
    "if agent is not None:\n",
    "    [await agent.delete_file(file_id) for file_id in agent.file_search_file_ids]\n",
    "    await agent.delete_thread(thread_id)\n",
    "    await agent.delete()\n"
   ]
  }
 ],
 "metadata": {
  "kernelspec": {
   "display_name": "Python 3",
   "language": "python",
   "name": "python3"
  },
  "language_info": {
   "codemirror_mode": {
    "name": "ipython",
    "version": 3
   },
   "file_extension": ".py",
   "mimetype": "text/x-python",
   "name": "python",
   "nbconvert_exporter": "python",
   "pygments_lexer": "ipython3",
   "version": "3.12.1"
  }
 },
 "nbformat": 4,
 "nbformat_minor": 2
}
