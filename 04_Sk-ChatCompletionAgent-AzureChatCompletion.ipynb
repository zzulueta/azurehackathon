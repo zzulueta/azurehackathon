{
 "cells": [
  {
   "cell_type": "markdown",
   "metadata": {},
   "source": [
    "# Semantic Kernal Chat Completion Agent - AzureChatCompletion Example\n",
    "\n",
    "Travel Agent"
   ]
  },
  {
   "cell_type": "markdown",
   "metadata": {},
   "source": [
    "## Install Dependencies"
   ]
  },
  {
   "cell_type": "code",
   "execution_count": null,
   "metadata": {},
   "outputs": [],
   "source": [
    "%pip install semantic-kernel"
   ]
  },
  {
   "cell_type": "markdown",
   "metadata": {},
   "source": [
    "## Create a Plugin\n",
    "https://learn.microsoft.com/en-us/semantic-kernel/concepts/ai-services/chat-completion/function-calling/?pivots=programming-language-python"
   ]
  },
  {
   "cell_type": "code",
   "execution_count": 5,
   "metadata": {},
   "outputs": [],
   "source": [
    "from semantic_kernel.functions.kernel_function_decorator import kernel_function\n",
    "from typing import Annotated\n",
    "\n",
    "# Define a sample plugin for the sample\n",
    "class TravelPlugin:\n",
    "    \"\"\"A sample Travel Plugin used for the concept sample.\"\"\"\n",
    "\n",
    "    @kernel_function(description=\"Provides a list of countries.\")\n",
    "    def get_countries(self) -> Annotated[str, \"Returns the countries that you can book.\"]:\n",
    "        return \"\"\"\n",
    "            United States\n",
    "            Australia\n",
    "            France\n",
    "        \"\"\"\n",
    "\n",
    "    @kernel_function(description=\"Provides the typical travel budget for a country\")\n",
    "    def get_travel_budget(self, \n",
    "        country: Annotated[str, \"The name of the country\"]) -> Annotated[str, \"Returns the budget for the country.\"]:\n",
    "        if country == \"United States\":\n",
    "            return \"\"\"\n",
    "                Budget Travelers: Around $121 per day. This includes staying in hostels, eating at budget restaurants, and using public transportation.\n",
    "                Mid-Range Travelers: Approximately $324 per day. This covers mid-range hotels, dining at average restaurants, and some paid attractions.\n",
    "                Luxury Travelers: About $923 per day. This includes luxury hotels, fine dining, and private transportation.\n",
    "            \"\"\"\n",
    "        elif country == \"Australia\":\n",
    "            return \"\"\"\n",
    "                Budget Travelers: Around $75 per day. This includes staying in hostels, cooking your own meals, and using public transport.\n",
    "                Mid-Range Travelers: Approximately $195 per day. This covers mid-range hotels, dining at average restaurants, and some paid attractions.\n",
    "                Luxury Travelers: About $517 per day. This includes luxury hotels, fine dining, and private transportation.\n",
    "            \"\"\"\n",
    "        elif country == \"France\":\n",
    "            return \"\"\"\n",
    "                Budget Travelers: Around $100 per day. This includes staying in hostels, eating at budget restaurants, and using public transportation.\n",
    "                Mid-Range Travelers: Approximately $286 per day. This covers mid-range hotels, dining at average restaurants, and some paid attractions.\n",
    "                Luxury Travelers: About $908 per day. This includes luxury hotels, fine dining, and private transportation.            \n",
    "            \"\"\"\n",
    "        else:\n",
    "            return \"Country not found\"\n",
    "    \n",
    "    @kernel_function(description=\"Provides the weather for a country\")\n",
    "    def get_weather(self, \n",
    "        country: Annotated[str, \"The name of the country\"]) -> Annotated[str, \"Returns the weather for the country.\"]:\n",
    "        if country == \"United States\":\n",
    "            return \"\"\"\n",
    "                The United States has a diverse climate. In general:\n",
    "                - **Winter**: Cold in the north, mild in the south. Average temperatures range from 26.6°F (-3°C) in Alaska to 70.7°F (21.5°C) in Florida.\n",
    "                - **Summer**: Hot and humid in the south, dry in the west. Average temperatures range from 52.7°F (11.5°C) to 70.7°F (21.5°C).\n",
    "            \"\"\"\n",
    "        elif country == \"Australia\":\n",
    "            return \"\"\"\n",
    "                Australia experiences varied climates:\n",
    "                - **Winter**: Mild in the north, cooler in the south. Average temperatures range from 46°F (8°C) in Canberra to 77°F (25°C) in Darwin.\n",
    "                - **Summer**: Hot and dry in the interior, humid in the north. Average temperatures range from 68°F (20°C) in Hobart to 91°F (33°C) in Darwin.\n",
    "            \"\"\"\n",
    "        elif country == \"France\":\n",
    "            return \"\"\"\n",
    "                France has several climate zones:\n",
    "                - **Winter**: Cold in the north, mild in the south. Average temperatures range from 35.5°F (2°C) in the northeast to 48°F (9°C) in the south.\n",
    "                - **Summer**: Warm and sunny. Average temperatures range from 63°F (17°C) in the north to 77°F (25°C) along the Mediterranean coast.\n",
    "            \"\"\"\n",
    "        else:\n",
    "            return \"Country not found\"\n",
    "    "
   ]
  },
  {
   "cell_type": "markdown",
   "metadata": {},
   "source": [
    "## Helper Method\n",
    "\n",
    "With ChatCompletionAgent, developer must manually maintain the Chat History"
   ]
  },
  {
   "cell_type": "code",
   "execution_count": 9,
   "metadata": {},
   "outputs": [],
   "source": [
    "import asyncio\n",
    "from semantic_kernel.agents import ChatCompletionAgent\n",
    "from semantic_kernel.connectors.ai.function_choice_behavior import FunctionChoiceBehavior\n",
    "from semantic_kernel.connectors.ai.open_ai import AzureChatCompletion\n",
    "from semantic_kernel.contents.chat_history import ChatHistory\n",
    "from semantic_kernel.contents.utils.author_role import AuthorRole\n",
    "from semantic_kernel.contents.chat_message_content import ChatMessageContent\n",
    "from semantic_kernel.kernel import Kernel\n",
    "from semantic_kernel.functions import KernelArguments\n",
    "\n",
    "\n",
    "# A helper method to invoke the agent with the user input, manage chat history, and print the messages\n",
    "async def invoke_agent(agent: ChatCompletionAgent, input: str, chat: ChatHistory) -> None:\n",
    "    \"\"\"Invoke the agent with the user input.\"\"\"\n",
    "\n",
    "    # Add the user message to the chat history\n",
    "    chat.add_user_message(input)\n",
    "\n",
    "    # Print the user input\n",
    "    print(f\"# {AuthorRole.USER}: '{input}'\")\n",
    "    \n",
    "    async for content in agent.invoke(chat):\n",
    "        # Print the agent response\n",
    "        print(f\"# {content.role} - {content.name or '*'}: '{content.content}'\")\n",
    "        # Add the agent message to the chat history\n",
    "        chat.add_message(content)\n",
    "        await asyncio.sleep(5)\n"
   ]
  },
  {
   "cell_type": "code",
   "execution_count": 11,
   "metadata": {},
   "outputs": [],
   "source": [
    "# Create the instance of the Kernel\n",
    "kernel = Kernel()\n",
    "\n",
    "azure_service_id = \"azure\"\n",
    "kernel.add_service(AzureChatCompletion(service_id=azure_service_id))\n",
    "\n",
    "# Get the AI Service settings for the specified service_id\n",
    "settings = kernel.get_prompt_execution_settings_from_service_id(service_id=azure_service_id)\n",
    "\n",
    "# Configure the function choice behavior to auto invoke kernel functions\n",
    "settings.function_choice_behavior = FunctionChoiceBehavior.Auto()\n",
    "\n",
    "kernel.add_plugin(TravelPlugin(), plugin_name=\"TravelPlugin\")\n",
    "\n",
    "# Create the agent\n",
    "agent = ChatCompletionAgent(\n",
    "    service_id=azure_service_id, \n",
    "    kernel=kernel, \n",
    "    name=\"TravelAgent\", \n",
    "    instructions=\"Answer questions about the travel.\", \n",
    "    arguments=KernelArguments(settings=settings)\n",
    ")\n",
    "\n",
    "# Define the chat history\n",
    "history = ChatHistory()"
   ]
  },
  {
   "cell_type": "markdown",
   "metadata": {},
   "source": [
    "## Accepting User Input and Displaying Agent Response\n",
    "\n",
    "Sample Questions:\n",
    "1. What countries can I go to?\n",
    "2. What is the weather in the United States?\n",
    "3. If I have a budget of $300, where can I go for 4 days?"
   ]
  },
  {
   "cell_type": "code",
   "execution_count": null,
   "metadata": {},
   "outputs": [],
   "source": [
    "user_input = \"What countries can I go to?\"\n",
    "await invoke_agent(agent, user_input, history)\n"
   ]
  },
  {
   "cell_type": "code",
   "execution_count": null,
   "metadata": {},
   "outputs": [],
   "source": [
    "history.messages"
   ]
  },
  {
   "cell_type": "code",
   "execution_count": null,
   "metadata": {},
   "outputs": [],
   "source": [
    "user_input = \"What is the weather in the United States?\"\n",
    "await invoke_agent(agent, user_input, history)"
   ]
  },
  {
   "cell_type": "code",
   "execution_count": null,
   "metadata": {},
   "outputs": [],
   "source": [
    "user_input = \"If I have a budget of $300, where can I go for 4 days?\"\n",
    "await invoke_agent(agent, user_input, history)"
   ]
  }
 ],
 "metadata": {
  "kernelspec": {
   "display_name": "Python 3",
   "language": "python",
   "name": "python3"
  },
  "language_info": {
   "codemirror_mode": {
    "name": "ipython",
    "version": 3
   },
   "file_extension": ".py",
   "mimetype": "text/x-python",
   "name": "python",
   "nbconvert_exporter": "python",
   "pygments_lexer": "ipython3",
   "version": "3.12.1"
  }
 },
 "nbformat": 4,
 "nbformat_minor": 2
}
