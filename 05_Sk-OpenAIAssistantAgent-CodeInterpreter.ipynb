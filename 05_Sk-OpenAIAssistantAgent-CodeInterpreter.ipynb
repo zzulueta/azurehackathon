{
 "cells": [
  {
   "cell_type": "markdown",
   "metadata": {},
   "source": [
    "# Semantic Kernel OpenAI Assistant Agent Code Interpreter"
   ]
  },
  {
   "cell_type": "code",
   "execution_count": null,
   "metadata": {},
   "outputs": [],
   "source": [
    "%pip install --upgrade semantic-kernel==1.20.0"
   ]
  },
  {
   "cell_type": "markdown",
   "metadata": {},
   "source": [
    "## Azure Resources Needed\n",
    "1. Azure OpenAI\n",
    "    - Deploy GPT-4o\n"
   ]
  },
  {
   "cell_type": "markdown",
   "metadata": {},
   "source": [
    "## Prepare File Paths of our files to be added to agent"
   ]
  },
  {
   "cell_type": "code",
   "execution_count": 1,
   "metadata": {},
   "outputs": [],
   "source": [
    "import os\n",
    "\n",
    "# Let's form the file paths that we will later pass to the assistant\n",
    "csv_file_path_1 = os.path.join(\"Data/population/\",\"PopulationByAdmin1.csv\",)\n",
    "\n",
    "csv_file_path_2 = os.path.join(\"Data/population/\",\"PopulationByCountry.csv\",)"
   ]
  },
  {
   "cell_type": "markdown",
   "metadata": {},
   "source": [
    "## Step 1-2: Create an Agent and Thread"
   ]
  },
  {
   "cell_type": "code",
   "execution_count": 15,
   "metadata": {},
   "outputs": [],
   "source": [
    "from semantic_kernel.agents.open_ai.azure_assistant_agent import AzureAssistantAgent\n",
    "from semantic_kernel.contents.chat_message_content import ChatMessageContent\n",
    "from semantic_kernel.contents.streaming_file_reference_content import StreamingFileReferenceContent\n",
    "from semantic_kernel.contents.file_reference_content import FileReferenceContent\n",
    "from semantic_kernel.contents.utils.author_role import AuthorRole\n",
    "from semantic_kernel.kernel import Kernel\n",
    "\n",
    "# Step 1: Create an assistant agent\n",
    "agent = await AzureAssistantAgent.create(\n",
    "        kernel=Kernel(),\n",
    "        service_id=\"agent\",\n",
    "        name=\"SKCodeInterpreter\",\n",
    "        instructions=\"\"\"\n",
    "                Analyze the available data to provide an answer to the user's question.\n",
    "                Always format response using markdown.\n",
    "                Always include a numerical index that starts at 1 for any lists or tables.\n",
    "                Always sort lists in ascending order.\n",
    "                \"\"\",\n",
    "        enable_code_interpreter=True,\n",
    "        code_interpreter_filenames=[csv_file_path_1, csv_file_path_2],\n",
    ")\n",
    "\n",
    "# Step 2: Create a thread\n",
    "thread_id = await agent.create_thread()"
   ]
  },
  {
   "cell_type": "markdown",
   "metadata": {},
   "source": [
    "## Helper Methods\n",
    "This will download any files created by the agent"
   ]
  },
  {
   "cell_type": "code",
   "execution_count": 16,
   "metadata": {},
   "outputs": [],
   "source": [
    "async def download_file_content(agent, file_id: str):\n",
    "    try:\n",
    "        # Fetch the content of the file using the provided method\n",
    "        response_content = await agent.client.files.content(file_id)\n",
    "\n",
    "        # Get the current working directory of the file\n",
    "        current_directory = \"Data/skagents-output/\"\n",
    "\n",
    "        # Define the path to save the image in the current directory\n",
    "        file_path = os.path.join(\n",
    "            current_directory,  # Use the current directory of the file\n",
    "            f\"{file_id}.png\",  # You can modify this to use the actual filename with proper extension\n",
    "        )\n",
    "\n",
    "        # Save content to a file asynchronously\n",
    "        with open(file_path, \"wb\") as file:\n",
    "            file.write(response_content.content)\n",
    "\n",
    "        print(f\"File saved to: {file_path}\")\n",
    "    except Exception as e:\n",
    "        print(f\"An error occurred while downloading file {file_id}: {str(e)}\")\n",
    "\n",
    "\n",
    "async def download_response_image(agent, file_ids: list[str]):\n",
    "    if file_ids:\n",
    "        # Iterate over file_ids and download each one\n",
    "        for file_id in file_ids:\n",
    "            await download_file_content(agent, file_id)"
   ]
  },
  {
   "cell_type": "markdown",
   "metadata": {},
   "source": [
    "## Step 3-5: Helper Function\n",
    "3. Add a message to the thread\n",
    "4. Run the Assistant\n",
    "5. Display the Assistant's Response"
   ]
  },
  {
   "cell_type": "code",
   "execution_count": 17,
   "metadata": {},
   "outputs": [],
   "source": [
    "async def run_agent(user_question):\n",
    "    # File IDs to store the references to the files\n",
    "    file_ids: list[str] = []\n",
    "\n",
    "    # STEP 3: Add a user question to the thread\n",
    "    await agent.add_chat_message(\n",
    "        thread_id=thread_id, \n",
    "        message=ChatMessageContent(role=AuthorRole.USER, content=user_question)\n",
    "    )\n",
    "\n",
    "    # STEP 4: Invoke the agent to get a response\n",
    "    async for response in agent.invoke(thread_id=thread_id):\n",
    "        # check if the response contains any code\n",
    "        if response.metadata.get(\"code\"):\n",
    "            print(\"\\n\" + \"Code from Agent:\")\n",
    "            #STEP 5: Print the Assistant response\n",
    "            print(f\"{response.content}\", end=\"\", flush=True)        \n",
    "        else:\n",
    "            #STEP 5: Print the Assistant response\n",
    "            print(f\"{response.content}\", end=\"\", flush=True)\n",
    "                    \n",
    "        print(\"\\n**************\")\n",
    "        #Check if the response contains any file references\n",
    "        file_ids.extend([item.file_id for item in response.items if isinstance(item, FileReferenceContent)])\n",
    "\n",
    "    # Download the file content\n",
    "    await download_response_image(agent, file_ids)\n",
    "    file_ids.clear()\n"
   ]
  },
  {
   "cell_type": "code",
   "execution_count": 18,
   "metadata": {},
   "outputs": [
    {
     "name": "stdout",
     "output_type": "stream",
     "text": [
      "\n",
      "Code from Agent:\n",
      "import pandas as pd\n",
      "\n",
      "# Load the contents of the uploaded files to examine\n",
      "file1_path = '/mnt/data/assistant-QBYhVsUviV2iMYM5e8RVe8'\n",
      "file2_path = '/mnt/data/assistant-BHeS4FM3DPeSm6QZ4Qzbxv'\n",
      "\n",
      "file1 = pd.read_excel(file1_path)\n",
      "file2 = pd.read_excel(file2_path)\n",
      "\n",
      "file1.head(), file2.head()\n",
      "**************\n",
      "\n",
      "Code from Agent:\n",
      "# Let's try reading the files with the 'openpyxl' engine for .xlsx files\n",
      "file1 = pd.read_excel(file1_path, engine='openpyxl')\n",
      "file2 = pd.read_excel(file2_path, engine='openpyxl')\n",
      "\n",
      "file1.head(), file2.head()\n",
      "**************\n",
      "\n",
      "Code from Agent:\n",
      "import magic\n",
      "\n",
      "# Function to determine file type using magic library\n",
      "def determine_file_type(file_path):\n",
      "    file_magic = magic.Magic(mime=True)\n",
      "    file_type = file_magic.from_file(file_path)\n",
      "    return file_type\n",
      "\n",
      "# Determine the file types for both files\n",
      "file1_type = determine_file_type(file1_path)\n",
      "file2_type = determine_file_type(file2_path)\n",
      "\n",
      "file1_type, file2_type\n",
      "**************\n",
      "\n",
      "Code from Agent:\n",
      "file1_csv = pd.read_csv(file1_path)\n",
      "file2_csv = pd.read_csv(file2_path)\n",
      "\n",
      "file1_csv.head(), file2_csv.head()\n",
      "**************\n",
      "\n",
      "Code from Agent:\n",
      "# Analyzing the country with the highest population from the second file\n",
      "country_with_highest_population = file2_csv.loc[file2_csv[\"Population\"].idxmax()]\n",
      "country_with_highest_population\n",
      "**************\n",
      "To answer the question, I will examine the contents of the uploaded files to determine which one contains the relevant data on country populations. Let's start by examining the contents of both files.\n",
      "**************\n",
      "It appears that I need to specify the engine manually to read the files. I'll try reading the files again with the specified engine.\n",
      "**************\n",
      "It seems that the files are not recognized as Excel files. To proceed, I'll examine the files to determine their accurate formats using a different approach. This way, we can identify how to properly process them.\n",
      "**************\n",
      "The `magic` library is not available in this environment. As an alternative, let's check if the files can be read as CSV files. We'll attempt to read them using the CSV format.\n",
      "**************\n",
      "The two files have the following initial contents:\n",
      "\n",
      "**File 1:**\n",
      "```\n",
      "| UID  | iso2 | iso3 | code3 | Province_State   | Country_Region | Lat     | Long | Combined_Key            | Population |\n",
      "|------|------|------|-------|------------------|----------------|---------|------|-------------------------|------------|\n",
      "| 5601 | BE   | BEL  | 56    | Antwerp          | Belgium        | 51.2195 | 4.40 | Antwerp, Belgium         | 1869730    |\n",
      "| 5602 | BE   | BEL  | 56    | Brussels         | Belgium        | 50.8503 | 4.35 | Brussels, Belgium        | 1218255    |\n",
      "| 5603 | BE   | BEL  | 56    | East Flanders    | Belgium        | 51.0362 | 3.73 | East Flanders, Belgium   | 1525255    |\n",
      "| 5604 | BE   | BEL  | 56    | Flemish Brabant  | Belgium        | 50.9167 | 4.58 | Flemish Brabant, Belgium | 1155843    |\n",
      "| 5605 | BE   | BEL  | 56    | Hainaut          | Belgium        | 50.5257 | 4.06 | Hainaut, Belgium         | 1346840    |\n",
      "```\n",
      "\n",
      "**File 2:**\n",
      "```\n",
      "| UID | iso2 | iso3 | code3 | Country_Region | Lat      | Long      | Population |\n",
      "|-----|------|------|-------|----------------|----------|-----------|------------|\n",
      "| 4   | AF   | AFG  | 4     | Afghanistan    | 33.93911 | 67.709953 | 38928341   |\n",
      "| 8   | AL   | ALB  | 8     | Albania        | 41.15330 | 20.168300 | 2877800    |\n",
      "| 10  | AQ   | ATA  | 10    | Antarctica     | -71.9499 | 23.347000 | 0          |\n",
      "| 12  | DZ   | DZA  | 12    | Algeria        | 28.03390 | 1.659600  | 43851043   |\n",
      "| 20  | AD   | AND  | 20    | Andorra        | 42.50630 | 1.521800  | 77265      |\n",
      "```\n",
      "\n",
      "It appears that **File 2** contains information about different countries and their populations. I will identify the country with the highest population from this file.\n",
      "**************\n",
      "The country with the highest population is **China** with a population of **1,411,778,724**.\n",
      "**************\n"
     ]
    }
   ],
   "source": [
    "user_question = \"What is the population of the country with the highest population?\"\n",
    "await run_agent(user_question)"
   ]
  },
  {
   "cell_type": "markdown",
   "metadata": {},
   "source": [
    "## Appending Messages to the Thread"
   ]
  },
  {
   "cell_type": "code",
   "execution_count": 19,
   "metadata": {},
   "outputs": [
    {
     "name": "stdout",
     "output_type": "stream",
     "text": [
      "\n",
      "Code from Agent:\n",
      "# Finding the country with the third highest population\n",
      "sorted_population = file2_csv.sort_values(by=\"Population\", ascending=False)\n",
      "third_highest_population = sorted_population.iloc[2]\n",
      "third_highest_population\n",
      "**************\n",
      "The country with the third highest population is **the United States** with a population of **329,466,283**.\n",
      "**************\n"
     ]
    }
   ],
   "source": [
    "user_question = \"What is in third place?\"\n",
    "await run_agent(user_question)"
   ]
  },
  {
   "cell_type": "code",
   "execution_count": 20,
   "metadata": {},
   "outputs": [
    {
     "ename": "AgentInvokeException",
     "evalue": "Run failed with status: `failed` for agent `SKCodeInterpreter` and thread `thread_9XlmSEWZJ8NZMxftcsQnLf5K` with error: Sorry, something went wrong.",
     "output_type": "error",
     "traceback": [
      "\u001b[0;31m---------------------------------------------------------------------------\u001b[0m",
      "\u001b[0;31mAgentInvokeException\u001b[0m                      Traceback (most recent call last)",
      "Cell \u001b[0;32mIn[20], line 2\u001b[0m\n\u001b[1;32m      1\u001b[0m user_question \u001b[38;5;241m=\u001b[39m \u001b[38;5;124m\"\u001b[39m\u001b[38;5;124mProvide a column chart of the top 10 countries by population. Add values at the top of each column\u001b[39m\u001b[38;5;124m\"\u001b[39m\n\u001b[0;32m----> 2\u001b[0m \u001b[38;5;28;01mawait\u001b[39;00m run_agent(user_question)\n",
      "Cell \u001b[0;32mIn[17], line 12\u001b[0m, in \u001b[0;36mrun_agent\u001b[0;34m(user_question)\u001b[0m\n\u001b[1;32m      6\u001b[0m \u001b[38;5;28;01mawait\u001b[39;00m agent\u001b[38;5;241m.\u001b[39madd_chat_message(\n\u001b[1;32m      7\u001b[0m     thread_id\u001b[38;5;241m=\u001b[39mthread_id, \n\u001b[1;32m      8\u001b[0m     message\u001b[38;5;241m=\u001b[39mChatMessageContent(role\u001b[38;5;241m=\u001b[39mAuthorRole\u001b[38;5;241m.\u001b[39mUSER, content\u001b[38;5;241m=\u001b[39muser_question)\n\u001b[1;32m      9\u001b[0m )\n\u001b[1;32m     11\u001b[0m \u001b[38;5;66;03m# STEP 4: Invoke the agent to get a response\u001b[39;00m\n\u001b[0;32m---> 12\u001b[0m \u001b[38;5;28;01masync\u001b[39;00m \u001b[38;5;28;01mfor\u001b[39;00m response \u001b[38;5;129;01min\u001b[39;00m agent\u001b[38;5;241m.\u001b[39minvoke(thread_id\u001b[38;5;241m=\u001b[39mthread_id):\n\u001b[1;32m     13\u001b[0m     \u001b[38;5;66;03m# check if the response contains any code\u001b[39;00m\n\u001b[1;32m     14\u001b[0m     \u001b[38;5;28;01mif\u001b[39;00m response\u001b[38;5;241m.\u001b[39mmetadata\u001b[38;5;241m.\u001b[39mget(\u001b[38;5;124m\"\u001b[39m\u001b[38;5;124mcode\u001b[39m\u001b[38;5;124m\"\u001b[39m):\n\u001b[1;32m     15\u001b[0m         \u001b[38;5;28mprint\u001b[39m(\u001b[38;5;124m\"\u001b[39m\u001b[38;5;130;01m\\n\u001b[39;00m\u001b[38;5;124m\"\u001b[39m \u001b[38;5;241m+\u001b[39m \u001b[38;5;124m\"\u001b[39m\u001b[38;5;124mCode from Agent:\u001b[39m\u001b[38;5;124m\"\u001b[39m)\n",
      "File \u001b[0;32m~/.python/current/lib/python3.12/site-packages/semantic_kernel/utils/telemetry/agent_diagnostics/decorators.py:28\u001b[0m, in \u001b[0;36mtrace_agent_invocation.<locals>.wrapper_decorator\u001b[0;34m(*args, **kwargs)\u001b[0m\n\u001b[1;32m     25\u001b[0m agent: \u001b[38;5;124m\"\u001b[39m\u001b[38;5;124mAgent\u001b[39m\u001b[38;5;124m\"\u001b[39m \u001b[38;5;241m=\u001b[39m args[\u001b[38;5;241m0\u001b[39m]\n\u001b[1;32m     27\u001b[0m \u001b[38;5;28;01mwith\u001b[39;00m tracer\u001b[38;5;241m.\u001b[39mstart_as_current_span(agent\u001b[38;5;241m.\u001b[39mname):\n\u001b[0;32m---> 28\u001b[0m     \u001b[38;5;28;01masync\u001b[39;00m \u001b[38;5;28;01mfor\u001b[39;00m response \u001b[38;5;129;01min\u001b[39;00m invoke_func(\u001b[38;5;241m*\u001b[39margs, \u001b[38;5;241m*\u001b[39m\u001b[38;5;241m*\u001b[39mkwargs):\n\u001b[1;32m     29\u001b[0m         \u001b[38;5;28;01myield\u001b[39;00m response\n",
      "File \u001b[0;32m~/.python/current/lib/python3.12/site-packages/semantic_kernel/agents/open_ai/open_ai_assistant_base.py:689\u001b[0m, in \u001b[0;36mOpenAIAssistantBase.invoke\u001b[0;34m(self, thread_id, ai_model_id, arguments, kernel, enable_code_interpreter, enable_file_search, enable_json_response, max_completion_tokens, max_prompt_tokens, parallel_tool_calls_enabled, truncation_message_count, temperature, top_p, metadata, instructions_override, additional_instructions, **kwargs)\u001b[0m\n\u001b[1;32m    641\u001b[0m \u001b[38;5;129m@trace_agent_invocation\u001b[39m\n\u001b[1;32m    642\u001b[0m \u001b[38;5;28;01masync\u001b[39;00m \u001b[38;5;28;01mdef\u001b[39;00m \u001b[38;5;21minvoke\u001b[39m(\n\u001b[1;32m    643\u001b[0m     \u001b[38;5;28mself\u001b[39m,\n\u001b[0;32m   (...)\u001b[0m\n\u001b[1;32m    661\u001b[0m     \u001b[38;5;241m*\u001b[39m\u001b[38;5;241m*\u001b[39mkwargs: Any,\n\u001b[1;32m    662\u001b[0m ) \u001b[38;5;241m-\u001b[39m\u001b[38;5;241m>\u001b[39m AsyncIterable[\u001b[38;5;124m\"\u001b[39m\u001b[38;5;124mChatMessageContent\u001b[39m\u001b[38;5;124m\"\u001b[39m]:\n\u001b[1;32m    663\u001b[0m \u001b[38;5;250m    \u001b[39m\u001b[38;5;124;03m\"\"\"Invoke the chat assistant.\u001b[39;00m\n\u001b[1;32m    664\u001b[0m \n\u001b[1;32m    665\u001b[0m \u001b[38;5;124;03m    The supplied arguments will take precedence over the specified assistant level attributes.\u001b[39;00m\n\u001b[0;32m   (...)\u001b[0m\n\u001b[1;32m    687\u001b[0m \u001b[38;5;124;03m        ChatMessageContent: The chat message content.\u001b[39;00m\n\u001b[1;32m    688\u001b[0m \u001b[38;5;124;03m    \"\"\"\u001b[39;00m\n\u001b[0;32m--> 689\u001b[0m     \u001b[38;5;28;01masync\u001b[39;00m \u001b[38;5;28;01mfor\u001b[39;00m is_visible, content \u001b[38;5;129;01min\u001b[39;00m \u001b[38;5;28mself\u001b[39m\u001b[38;5;241m.\u001b[39m_invoke_internal(\n\u001b[1;32m    690\u001b[0m         thread_id\u001b[38;5;241m=\u001b[39mthread_id,\n\u001b[1;32m    691\u001b[0m         ai_model_id\u001b[38;5;241m=\u001b[39mai_model_id,\n\u001b[1;32m    692\u001b[0m         arguments\u001b[38;5;241m=\u001b[39marguments,\n\u001b[1;32m    693\u001b[0m         kernel\u001b[38;5;241m=\u001b[39mkernel,\n\u001b[1;32m    694\u001b[0m         enable_code_interpreter\u001b[38;5;241m=\u001b[39menable_code_interpreter,\n\u001b[1;32m    695\u001b[0m         enable_file_search\u001b[38;5;241m=\u001b[39menable_file_search,\n\u001b[1;32m    696\u001b[0m         enable_json_response\u001b[38;5;241m=\u001b[39menable_json_response,\n\u001b[1;32m    697\u001b[0m         max_completion_tokens\u001b[38;5;241m=\u001b[39mmax_completion_tokens,\n\u001b[1;32m    698\u001b[0m         max_prompt_tokens\u001b[38;5;241m=\u001b[39mmax_prompt_tokens,\n\u001b[1;32m    699\u001b[0m         parallel_tool_calls_enabled\u001b[38;5;241m=\u001b[39mparallel_tool_calls_enabled,\n\u001b[1;32m    700\u001b[0m         truncation_message_count\u001b[38;5;241m=\u001b[39mtruncation_message_count,\n\u001b[1;32m    701\u001b[0m         temperature\u001b[38;5;241m=\u001b[39mtemperature,\n\u001b[1;32m    702\u001b[0m         top_p\u001b[38;5;241m=\u001b[39mtop_p,\n\u001b[1;32m    703\u001b[0m         metadata\u001b[38;5;241m=\u001b[39mmetadata,\n\u001b[1;32m    704\u001b[0m         instructions_override\u001b[38;5;241m=\u001b[39minstructions_override,\n\u001b[1;32m    705\u001b[0m         additional_instructions\u001b[38;5;241m=\u001b[39madditional_instructions,\n\u001b[1;32m    706\u001b[0m         kwargs\u001b[38;5;241m=\u001b[39mkwargs,\n\u001b[1;32m    707\u001b[0m     ):\n\u001b[1;32m    708\u001b[0m         \u001b[38;5;28;01mif\u001b[39;00m is_visible:\n\u001b[1;32m    709\u001b[0m             \u001b[38;5;28;01myield\u001b[39;00m content\n",
      "File \u001b[0;32m~/.python/current/lib/python3.12/site-packages/semantic_kernel/agents/open_ai/open_ai_assistant_base.py:825\u001b[0m, in \u001b[0;36mOpenAIAssistantBase._invoke_internal\u001b[0;34m(self, thread_id, ai_model_id, arguments, kernel, enable_code_interpreter, enable_file_search, enable_json_response, max_completion_tokens, max_prompt_tokens, parallel_tool_calls_enabled, truncation_message_count, temperature, top_p, metadata, instructions_override, additional_instructions, **kwargs)\u001b[0m\n\u001b[1;32m    823\u001b[0m     \u001b[38;5;28;01mif\u001b[39;00m run\u001b[38;5;241m.\u001b[39mlast_error \u001b[38;5;129;01mand\u001b[39;00m run\u001b[38;5;241m.\u001b[39mlast_error\u001b[38;5;241m.\u001b[39mmessage:\n\u001b[1;32m    824\u001b[0m         error_message \u001b[38;5;241m=\u001b[39m run\u001b[38;5;241m.\u001b[39mlast_error\u001b[38;5;241m.\u001b[39mmessage\n\u001b[0;32m--> 825\u001b[0m     \u001b[38;5;28;01mraise\u001b[39;00m AgentInvokeException(\n\u001b[1;32m    826\u001b[0m         \u001b[38;5;124mf\u001b[39m\u001b[38;5;124m\"\u001b[39m\u001b[38;5;124mRun failed with status: `\u001b[39m\u001b[38;5;132;01m{\u001b[39;00mrun\u001b[38;5;241m.\u001b[39mstatus\u001b[38;5;132;01m}\u001b[39;00m\u001b[38;5;124m` for agent `\u001b[39m\u001b[38;5;132;01m{\u001b[39;00m\u001b[38;5;28mself\u001b[39m\u001b[38;5;241m.\u001b[39mname\u001b[38;5;132;01m}\u001b[39;00m\u001b[38;5;124m` and thread `\u001b[39m\u001b[38;5;132;01m{\u001b[39;00mthread_id\u001b[38;5;132;01m}\u001b[39;00m\u001b[38;5;124m` \u001b[39m\u001b[38;5;124m\"\u001b[39m\n\u001b[1;32m    827\u001b[0m         \u001b[38;5;124mf\u001b[39m\u001b[38;5;124m\"\u001b[39m\u001b[38;5;124mwith error: \u001b[39m\u001b[38;5;132;01m{\u001b[39;00merror_message\u001b[38;5;132;01m}\u001b[39;00m\u001b[38;5;124m\"\u001b[39m\n\u001b[1;32m    828\u001b[0m     )\n\u001b[1;32m    830\u001b[0m \u001b[38;5;66;03m# Check if function calling required\u001b[39;00m\n\u001b[1;32m    831\u001b[0m \u001b[38;5;28;01mif\u001b[39;00m run\u001b[38;5;241m.\u001b[39mstatus \u001b[38;5;241m==\u001b[39m \u001b[38;5;124m\"\u001b[39m\u001b[38;5;124mrequires_action\u001b[39m\u001b[38;5;124m\"\u001b[39m:\n",
      "\u001b[0;31mAgentInvokeException\u001b[0m: Run failed with status: `failed` for agent `SKCodeInterpreter` and thread `thread_9XlmSEWZJ8NZMxftcsQnLf5K` with error: Sorry, something went wrong."
     ]
    }
   ],
   "source": [
    "user_question = \"Provide a column chart of the top 10 countries by population. Add values at the top of each column\"\n",
    "await run_agent(user_question)"
   ]
  },
  {
   "cell_type": "code",
   "execution_count": null,
   "metadata": {},
   "outputs": [],
   "source": [
    "user_question = \"Provide a column chart for countries whose names start with the same letter and sort the x axis by highest count to lowest (include all countries). Add values on top of each column\"\n",
    "await run_agent(user_question)"
   ]
  },
  {
   "cell_type": "markdown",
   "metadata": {},
   "source": [
    "## Deleting Files, Thread, Agent"
   ]
  },
  {
   "cell_type": "code",
   "execution_count": null,
   "metadata": {},
   "outputs": [],
   "source": [
    "if agent is not None:\n",
    "    [await agent.delete_file(file_id) for file_id in agent.code_interpreter_file_ids]\n",
    "    await agent.delete_thread(thread_id)\n",
    "    await agent.delete()"
   ]
  }
 ],
 "metadata": {
  "kernelspec": {
   "display_name": "Python 3",
   "language": "python",
   "name": "python3"
  },
  "language_info": {
   "codemirror_mode": {
    "name": "ipython",
    "version": 3
   },
   "file_extension": ".py",
   "mimetype": "text/x-python",
   "name": "python",
   "nbconvert_exporter": "python",
   "pygments_lexer": "ipython3",
   "version": "3.12.1"
  }
 },
 "nbformat": 4,
 "nbformat_minor": 2
}
