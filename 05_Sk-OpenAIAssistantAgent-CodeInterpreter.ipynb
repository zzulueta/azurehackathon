{
 "cells": [
  {
   "cell_type": "markdown",
   "metadata": {},
   "source": [
    "# Semantic Kernel OpenAI Assistant Agent Code Interpreter"
   ]
  },
  {
   "cell_type": "code",
   "execution_count": null,
   "metadata": {},
   "outputs": [],
   "source": [
    "%pip install --upgrade semantic-kernel==1.20.0"
   ]
  },
  {
   "cell_type": "markdown",
   "metadata": {},
   "source": [
    "## Azure Resources Needed\n",
    "1. Azure OpenAI\n",
    "    - Deploy GPT-4o\n"
   ]
  },
  {
   "cell_type": "markdown",
   "metadata": {},
   "source": [
    "## Prepare File Paths of our files to be added to agent"
   ]
  },
  {
   "cell_type": "code",
   "execution_count": 1,
   "metadata": {},
   "outputs": [],
   "source": [
    "import os\n",
    "\n",
    "# Let's form the file paths that we will later pass to the assistant\n",
    "csv_file_path_1 = os.path.join(\"Data/population/\",\"PopulationByAdmin1.csv\",)\n",
    "\n",
    "csv_file_path_2 = os.path.join(\"Data/population/\",\"PopulationByCountry.csv\",)"
   ]
  },
  {
   "cell_type": "markdown",
   "metadata": {},
   "source": [
    "## Step 1-2: Create an Agent and Thread"
   ]
  },
  {
   "cell_type": "code",
   "execution_count": 2,
   "metadata": {},
   "outputs": [],
   "source": [
    "from semantic_kernel.agents.open_ai.azure_assistant_agent import AzureAssistantAgent\n",
    "from semantic_kernel.contents.chat_message_content import ChatMessageContent\n",
    "from semantic_kernel.contents.streaming_file_reference_content import StreamingFileReferenceContent\n",
    "from semantic_kernel.contents.file_reference_content import FileReferenceContent\n",
    "from semantic_kernel.contents.utils.author_role import AuthorRole\n",
    "from semantic_kernel.kernel import Kernel\n",
    "\n",
    "# Step 1: Create an assistant agent\n",
    "agent = await AzureAssistantAgent.create(\n",
    "        kernel=Kernel(),\n",
    "        service_id=\"agent\",\n",
    "        name=\"SKCodeInterpreter\",\n",
    "        instructions=\"\"\"\n",
    "                Analyze the available data to provide an answer to the user's question.\n",
    "                Always format response using markdown.\n",
    "                Always include a numerical index that starts at 1 for any lists or tables.\n",
    "                Always sort lists in ascending order.\n",
    "                \"\"\",\n",
    "        enable_code_interpreter=True,\n",
    "        code_interpreter_filenames=[csv_file_path_1, csv_file_path_2],\n",
    ")\n",
    "\n",
    "# Step 2: Create a thread\n",
    "thread_id = await agent.create_thread()"
   ]
  },
  {
   "cell_type": "markdown",
   "metadata": {},
   "source": [
    "## Helper Methods\n",
    "This will download any files created by the agent"
   ]
  },
  {
   "cell_type": "code",
   "execution_count": 3,
   "metadata": {},
   "outputs": [],
   "source": [
    "async def download_file_content(agent, file_id: str):\n",
    "    try:\n",
    "        # Fetch the content of the file using the provided method\n",
    "        response_content = await agent.client.files.content(file_id)\n",
    "\n",
    "        # Get the current working directory of the file\n",
    "        current_directory = \"Data/skagents-output/\"\n",
    "\n",
    "        # Define the path to save the image in the current directory\n",
    "        file_path = os.path.join(\n",
    "            current_directory,  # Use the current directory of the file\n",
    "            f\"{file_id}.png\",  # You can modify this to use the actual filename with proper extension\n",
    "        )\n",
    "\n",
    "        # Save content to a file asynchronously\n",
    "        with open(file_path, \"wb\") as file:\n",
    "            file.write(response_content.content)\n",
    "\n",
    "        print(f\"File saved to: {file_path}\")\n",
    "    except Exception as e:\n",
    "        print(f\"An error occurred while downloading file {file_id}: {str(e)}\")\n",
    "\n",
    "\n",
    "async def download_response_image(agent, file_ids: list[str]):\n",
    "    if file_ids:\n",
    "        # Iterate over file_ids and download each one\n",
    "        for file_id in file_ids:\n",
    "            await download_file_content(agent, file_id)"
   ]
  },
  {
   "cell_type": "markdown",
   "metadata": {},
   "source": [
    "## Step 3-5: Helper Function\n",
    "3. Add a message to the thread\n",
    "4. Run the Assistant\n",
    "5. Display the Assistant's Response"
   ]
  },
  {
   "cell_type": "code",
   "execution_count": 4,
   "metadata": {},
   "outputs": [],
   "source": [
    "async def run_agent(user_question):\n",
    "    # File IDs to store the references to the files\n",
    "    file_ids: list[str] = []\n",
    "\n",
    "    # STEP 3: Add a user question to the thread\n",
    "    await agent.add_chat_message(\n",
    "        thread_id=thread_id, \n",
    "        message=ChatMessageContent(role=AuthorRole.USER, content=user_question)\n",
    "    )\n",
    "\n",
    "    # STEP 4: Invoke the agent to get a response\n",
    "    async for response in agent.invoke(thread_id=thread_id):\n",
    "        # check if the response contains any code\n",
    "        if response.metadata.get(\"code\"):\n",
    "            print(\"\\n\" + \"Code from Agent:\")\n",
    "            #STEP 5: Print the Assistant response\n",
    "            print(f\"{response.content}\", end=\"\", flush=True)        \n",
    "        else:\n",
    "            #STEP 5: Print the Assistant response\n",
    "            print(f\"{response.content}\", end=\"\", flush=True)\n",
    "                    \n",
    "        print(\"\\n**************\")\n",
    "        #Check if the response contains any file references\n",
    "        file_ids.extend([item.file_id for item in response.items if isinstance(item, FileReferenceContent)])\n",
    "\n",
    "    # Download the file content\n",
    "    await download_response_image(agent, file_ids)\n",
    "    file_ids.clear()\n"
   ]
  },
  {
   "cell_type": "code",
   "execution_count": 5,
   "metadata": {},
   "outputs": [
    {
     "name": "stdout",
     "output_type": "stream",
     "text": [
      "\n",
      "Code from Agent:\n",
      "import pandas as pd\n",
      "\n",
      "# Read the uploaded files\n",
      "file_path_population = '/mnt/data/assistant-HBtjrMUGD651UsgFKGkQSf'\n",
      "file_path_countries = '/mnt/data/assistant-T9d7okPhpjKaBGoPcoavE7'\n",
      "\n",
      "file_population = pd.ExcelFile(file_path_population)\n",
      "file_countries = pd.ExcelFile(file_path_countries)\n",
      "\n",
      "file_population.sheet_names, file_countries.sheet_names\n",
      "**************\n",
      "\n",
      "Code from Agent:\n",
      "import magic\n",
      "\n",
      "# Determine the MIME type of the uploaded files\n",
      "mime = magic.Magic()\n",
      "\n",
      "file_type_population = mime.from_file(file_path_population)\n",
      "file_type_countries = mime.from_file(file_path_countries)\n",
      "\n",
      "file_type_population, file_type_countries\n",
      "**************\n",
      "\n",
      "Code from Agent:\n",
      "# Attempt to read the uploaded files as CSVs\n",
      "try:\n",
      "    data_population = pd.read_csv(file_path_population)\n",
      "    file_population_type = 'csv'\n",
      "except pd.errors.ParserError:\n",
      "    file_population_type = 'unknown'\n",
      "    \n",
      "try:\n",
      "    data_countries = pd.read_csv(file_path_countries)\n",
      "    file_countries_type = 'csv'\n",
      "except pd.errors.ParserError:\n",
      "    file_countries_type = 'unknown'\n",
      "\n",
      "file_population_type, file_countries_type\n",
      "**************\n",
      "\n",
      "Code from Agent:\n",
      "# Display the first few rows of each CSV file to understand their structure\n",
      "data_population_head = data_population.head()\n",
      "data_countries_head = data_countries.head()\n",
      "\n",
      "data_population_head, data_countries_head\n",
      "**************\n",
      "\n",
      "Code from Agent:\n",
      "# Find the country with the highest population\n",
      "country_with_highest_population = data_countries.loc[data_countries['Population'].idxmax()]\n",
      "\n",
      "country_with_highest_population\n",
      "**************\n",
      "Let me take a look at the uploaded files to analyze and extract the required information.\n",
      "**************\n",
      "It looks like the files might not be in Excel format. Let me first determine the file types of these uploaded files and then proceed accordingly.\n",
      "**************\n",
      "It appears that the `magic` library is not available in the current environment. I will try reading the files using a different approach to determine their contents. Let's first try reading them as CSV files.\n",
      "**************\n",
      "Both files are in CSV format. Let's take a look at the contents of these files to identify the population data and find the country with the highest population.\n",
      "**************\n",
      "The `data_population` data seems to concern sub-national regions (e.g., provinces or states), which is not relevant for this question. However, it appears that `data_countries` contains population data at the country level.\n",
      "\n",
      "To determine the country with the highest population, we will analyze the `data_countries` dataframe.\n",
      "**************\n",
      "The country with the highest population is **China** with a population of **1,411,778,724**.\n",
      "**************\n"
     ]
    }
   ],
   "source": [
    "user_question = \"What is the population of the country with the highest population?\"\n",
    "await run_agent(user_question)"
   ]
  },
  {
   "cell_type": "markdown",
   "metadata": {},
   "source": [
    "## Appending Messages to the Thread"
   ]
  },
  {
   "cell_type": "code",
   "execution_count": 6,
   "metadata": {},
   "outputs": [
    {
     "name": "stdout",
     "output_type": "stream",
     "text": [
      "\n",
      "Code from Agent:\n",
      "# Find the country with the third highest population\n",
      "sorted_countries_by_population = data_countries.sort_values(by='Population', ascending=False).reset_index(drop=True)\n",
      "third_highest_population_country = sorted_countries_by_population.iloc[2]\n",
      "\n",
      "third_highest_population_country\n",
      "**************\n",
      "The country with the third highest population is the **United States (US)** with a population of **329,466,283**.\n",
      "**************\n"
     ]
    }
   ],
   "source": [
    "user_question = \"What is in third place?\"\n",
    "await run_agent(user_question)"
   ]
  },
  {
   "cell_type": "code",
   "execution_count": 7,
   "metadata": {},
   "outputs": [
    {
     "name": "stdout",
     "output_type": "stream",
     "text": [
      "\n",
      "Code from Agent:\n",
      "import matplotlib.pyplot as plt\n",
      "\n",
      "# Select the top 10 countries by population\n",
      "top_10_countries_population = sorted_countries_by_population.head(10)\n",
      "\n",
      "# Create a bar chart\n",
      "plt.figure(figsize=(12, 8))\n",
      "bars = plt.bar(top_10_countries_population['Country_Region'], top_10_countries_population['Population'], color='skyblue')\n",
      "\n",
      "# Add values on top of each bar\n",
      "for bar in bars:\n",
      "    yval = bar.get_height()\n",
      "    plt.text(bar.get_x() + bar.get_width()/2, yval, f'{yval:,}', ha='center', va='bottom')\n",
      "\n",
      "# Add titles and labels\n",
      "plt.title('Top 10 Countries by Population')\n",
      "plt.xlabel('Country')\n",
      "plt.ylabel('Population')\n",
      "\n",
      "# Rotate x-axis labels for better readability\n",
      "plt.xticks(rotation=45, ha='right')\n",
      "\n",
      "# Display the chart\n",
      "plt.show()\n",
      "**************\n",
      "Here is the column chart displaying the top 10 countries by population, with population values at the top of each column.\n",
      "**************\n",
      "File saved to: Data/skagents-output/assistant-TZcK7NvFivhjQPY1J1kAYq.png\n"
     ]
    }
   ],
   "source": [
    "user_question = \"Provide a column chart of the top 10 countries by population. Add values at the top of each column\"\n",
    "await run_agent(user_question)"
   ]
  },
  {
   "cell_type": "code",
   "execution_count": 9,
   "metadata": {},
   "outputs": [
    {
     "name": "stdout",
     "output_type": "stream",
     "text": [
      "\n",
      "Code from Agent:\n",
      "# Group countries by the first letter and count the occurrences\n",
      "grouped_by_letter_count = data_countries.groupby('First_Letter').size().reset_index(name='Count')\n",
      "\n",
      "# Sort by count in descending order\n",
      "sorted_grouped_by_letter_count = grouped_by_letter_count.sort_values(by='Count', ascending=False)\n",
      "\n",
      "# Create a column chart\n",
      "plt.figure(figsize=(14, 8))\n",
      "bars = plt.bar(sorted_grouped_by_letter_count['First_Letter'], sorted_grouped_by_letter_count['Count'], color='orange')\n",
      "\n",
      "# Add values on top of each bar\n",
      "for bar in bars:\n",
      "    yval = bar.get_height()\n",
      "    plt.text(bar.get_x() + bar.get_width() / 2, yval, int(yval), ha='center', va='bottom')\n",
      "\n",
      "# Add titles and labels\n",
      "plt.title('Number of Countries by First Letter of Country Names')\n",
      "plt.xlabel('First Letter of Country Names')\n",
      "plt.ylabel('Number of Countries')\n",
      "\n",
      "# Display the chart\n",
      "plt.show()\n",
      "**************\n",
      "To create the desired chart, we will group the countries by the first letter of their names, count the number of occurrences for each letter, and then create a column chart sorted by those counts. Let's proceed with this analysis.\n",
      "**************\n",
      "Here is the column chart displaying the number of countries by the first letter of their names, with the number of occurrences labeled on top of each column. The x-axis is sorted from the highest to the lowest count.\n",
      "\n",
      "**************\n",
      "File saved to: Data/skagents-output/assistant-SUA97gk1jmnXSmxxGu6LJc.png\n"
     ]
    }
   ],
   "source": [
    "user_question = \"Provide a column chart for countries whose names start with the same letter and sort the x axis by highest count to lowest (include all countries). Add the number of occurences on top of each column\"\n",
    "await run_agent(user_question)"
   ]
  },
  {
   "cell_type": "markdown",
   "metadata": {},
   "source": [
    "## Deleting Files, Thread, Agent"
   ]
  },
  {
   "cell_type": "code",
   "execution_count": null,
   "metadata": {},
   "outputs": [],
   "source": [
    "if agent is not None:\n",
    "    [await agent.delete_file(file_id) for file_id in agent.code_interpreter_file_ids]\n",
    "    await agent.delete_thread(thread_id)\n",
    "    await agent.delete()"
   ]
  }
 ],
 "metadata": {
  "kernelspec": {
   "display_name": "Python 3",
   "language": "python",
   "name": "python3"
  },
  "language_info": {
   "codemirror_mode": {
    "name": "ipython",
    "version": 3
   },
   "file_extension": ".py",
   "mimetype": "text/x-python",
   "name": "python",
   "nbconvert_exporter": "python",
   "pygments_lexer": "ipython3",
   "version": "3.12.1"
  }
 },
 "nbformat": 4,
 "nbformat_minor": 2
}
