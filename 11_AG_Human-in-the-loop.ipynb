{
 "cells": [
  {
   "cell_type": "markdown",
   "metadata": {},
   "source": [
    "## Human-in-the-Loop\n",
    "There are two main ways to interact with the team from your application:\n",
    "\n",
    "1. During a team’s run – execution of run() or run_stream(), provide feedback through a UserProxyAgent.\n",
    "\n",
    "2. Once the run terminates, provide feedback through input to the next call to run() or run_stream()."
   ]
  },
  {
   "cell_type": "markdown",
   "metadata": {},
   "source": [
    "## Load Azure Configurations"
   ]
  },
  {
   "cell_type": "code",
   "execution_count": 1,
   "metadata": {},
   "outputs": [],
   "source": [
    "from dotenv import load_dotenv\n",
    "import os\n",
    "\n",
    "azure_openai_endpoint = os.getenv(\"AZURE_OPENAI_ENDPOINT\")\n",
    "azure_openai_key = os.getenv(\"AZURE_OPENAI_API_KEY\")\n",
    "azure_openai_deployment = os.getenv(\"AZURE_OPENAI_CHAT_DEPLOYMENT_NAME\")\n",
    "azure_openai_api_version = os.getenv(\"AZURE_OPENAI_API_VERSION\")"
   ]
  },
  {
   "cell_type": "markdown",
   "metadata": {},
   "source": [
    "## Create Azure OpenAI Client\n",
    "Using the model client class"
   ]
  },
  {
   "cell_type": "code",
   "execution_count": 2,
   "metadata": {},
   "outputs": [],
   "source": [
    "from autogen_ext.models.openai import AzureOpenAIChatCompletionClient\n",
    "from azure.identity import DefaultAzureCredential, get_bearer_token_provider\n",
    "\n",
    "# Create the token provider\n",
    "#token_provider = get_bearer_token_provider(DefaultAzureCredential(), \"https://cognitiveservices.azure.com/.default\")\n",
    "\n",
    "az_model_client = AzureOpenAIChatCompletionClient(\n",
    "    azure_deployment=azure_openai_deployment,\n",
    "    model=azure_openai_deployment,\n",
    "    api_version=azure_openai_api_version,\n",
    "    azure_endpoint=azure_openai_endpoint,\n",
    "    # azure_ad_token_provider=token_provider,  # Optional if you choose key-based authentication.\n",
    "    api_key=azure_openai_key, # For key-based authentication.\n",
    ")"
   ]
  },
  {
   "cell_type": "markdown",
   "metadata": {},
   "source": [
    "## UserProxyAgent - Providing Feedback During a Run\n",
    "The UserProxyAgent is a special built-in agent that acts as a proxy for a user to provide feedback to the team.\n",
    "\n",
    "To use the UserProxyAgent, you can create an instance of it and include it in the team before running the team. The team will decide when to call the UserProxyAgent to ask for feedback from the user.\n",
    "\n",
    "When UserProxyAgent is called during a run, it blocks the execution of the team until the user provides feedback or errors out. This will hold up the team’s progress and put the team in an unstable state that cannot be saved or resumed.\n",
    "\n",
    "Due to the blocking nature of this approach, it is recommended to use it only for short interactions that require immediate feedback from the user, such as asking for approval or disapproval with a button click, or an alert requiring immediate attention otherwise failing the task."
   ]
  },
  {
   "cell_type": "code",
   "execution_count": 3,
   "metadata": {},
   "outputs": [
    {
     "name": "stdout",
     "output_type": "stream",
     "text": [
      "---------- user ----------\n",
      "Write a short poem about the fall season.\n",
      "---------- primary ----------\n",
      "In autumn’s golden haze, the world transforms,\n",
      "Leaves drift like whispers through the cooling air,\n",
      "A tapestry of amber, garnet forms,\n",
      "And nature paints her scene with tender care.\n",
      "\n",
      "The harvest moon spills light upon the trees,\n",
      "While pumpkins line the fields in orange repose,\n",
      "A scent of spice is carried by the breeze,\n",
      "And woodsmoke curls where fading daylight goes.\n",
      "\n",
      "The world slows down beneath a twilight sky,\n",
      "Where constellations gleam with frosty breath,\n",
      "And quiet nights invite the heart’s deep sigh,\n",
      "Embracing fall’s sweet song of life and death.\n",
      "[Prompt tokens: 28, Completion tokens: 117]\n"
     ]
    },
    {
     "name": "stderr",
     "output_type": "stream",
     "text": [
      "/home/codespace/.python/current/lib/python3.12/site-packages/autogen_agentchat/agents/_assistant_agent.py:343: UserWarning: Resolved model mismatch: gpt-4o-2024-08-06 != gpt-4o-2024-05-13. Model mapping may be incorrect.\n",
      "  result = await self._model_client.create(\n"
     ]
    },
    {
     "name": "stdout",
     "output_type": "stream",
     "text": [
      "---------- critic ----------\n",
      "Your poem beautifully captures the essence and imagery of the fall season. The vivid descriptions and delicate language paint a picture that is both serene and evocative. Here are a few points of feedback to consider:\n",
      "\n",
      "1. **Imagery and Language**: Your use of descriptive language is excellent. Phrases like \"autumn’s golden haze\" and \"tapestry of amber, garnet\" are visually and emotionally evocative, bringing the reader directly into the fall scene.\n",
      "\n",
      "2. **Structure**: The poem’s structure is consistent and flows well. The traditional quatrains give it a rhythmic, almost nostalgic feel that suits the theme of fall. \n",
      "\n",
      "3. **Mood**: You've effectively created a contemplative and serene mood, which suits the season of fall as a time of transition and change.\n",
      "\n",
      "4. **Specificity**: Consider including more specific elements or imagery unique to autumn that might resonate universally. This could enhance the personal connection for readers, such as calling out specific scents or sights.\n",
      "\n",
      "5. **Consistency**: There might be a slight discrepancy in the line \"A tapestry of amber, garnet forms.\" The phrase seems slightly rushed due to the rhythm. You might consider rewording for smoother flow, for instance, \"A tapestry of amber, garnet forms anew.\"\n",
      "\n",
      "6. **Emotional Depth**: The final stanza does a great job of inviting reflection with \"quiet nights invite the heart’s deep sigh.\" It effectively culminates the emotional journey through fall.\n",
      "\n",
      "Overall, this is a lovely and evocative poem that captures the gentle, reflective nature of fall beautifully. Keep writing and refining—your ability to craft imagery and atmosphere is strong!\n",
      "[Prompt tokens: 148, Completion tokens: 335]\n",
      "---------- user_proxy ----------\n",
      "make it about Tokyo and cherry blossoms\n",
      "---------- primary ----------\n",
      "In Tokyo’s springtime haze, the city blooms,\n",
      "As cherry blossoms drift through silken air,\n",
      "A fleeting blush of pink in crowded rooms,\n",
      "With petals painting scenes beyond compare.\n",
      "\n",
      "The quiet parks fill up with laughter’s sound,\n",
      "Beneath the trees, a sea of pink repose,\n",
      "As hanami keeps joy in hearts unbound,\n",
      "While daylight bathes the streets in rosy glows.\n",
      "\n",
      "The lanterns light the paths as twilight falls,\n",
      "A gentle breeze stirs blossoms’ soft descent,\n",
      "And Tokyo dreams beneath the moon's soft calls,\n",
      "In cherry blossom time, so sweetly spent.\n",
      "[Prompt tokens: 505, Completion tokens: 119]\n",
      "---------- critic ----------\n",
      "Your revamped poem about Tokyo and cherry blossoms is equally enchanting. Here are some points of constructive feedback to consider:\n",
      "\n",
      "1. **Imagery and Language**: The imagery remains beautiful and evocative. Phrases like \"springtime haze\" and \"a sea of pink repose\" capture the essence of cherry blossom season in Tokyo vividly.\n",
      "\n",
      "2. **Cultural Elements**: It's wonderful that you included \"hanami,\" which adds a cultural touch specific to Japan, enhancing the reader’s sense of place and tradition.\n",
      "\n",
      "3. **Structure and Flow**: The poem’s structure is consistent and flows smoothly. Each stanza sequentially builds the scene, providing a lovely narrative progression.\n",
      "\n",
      "4. **Mood**: The poem maintains a serene and joyful mood appropriate for the season and setting. The incorporation of laughter and gentle breezes adds to the tranquil atmosphere.\n",
      "\n",
      "5. **Specificity**: You've included specific cultural practices like hanami, which enriches the poem’s authenticity. Consider adding more details like traditional foods or sights to deepen the cultural immersion.\n",
      "\n",
      "6. **Emotional Depth**: The poem effectively captures the transient beauty of cherry blossoms and the peaceful feelings they evoke. Lines like \"Tokyo dreams beneath the moon's soft calls\" nicely encapsulate this sentiment.\n",
      "\n",
      "Overall, your poem delicately and effectively captures the charm of Tokyo during cherry blossom season. Keep exploring these culturally rich and visually compelling themes in your poetry!\n",
      "[Prompt tokens: 627, Completion tokens: 282]\n",
      "---------- user_proxy ----------\n",
      "exit\n",
      "---------- primary ----------\n",
      "If you have any more questions in the future or need assistance, feel free to reach out. Have a great day!\n",
      "[Prompt tokens: 925, Completion tokens: 24]\n",
      "---------- critic ----------\n",
      "Understood. If you need assistance in the future, feel free to reach out. Have a wonderful day!\n",
      "[Prompt tokens: 952, Completion tokens: 22]\n",
      "---------- user_proxy ----------\n",
      "APPROVE\n",
      "---------- Summary ----------\n",
      "Number of messages: 10\n",
      "Finish reason: Text 'APPROVE' mentioned\n",
      "Total prompt tokens: 3185\n",
      "Total completion tokens: 899\n",
      "Duration: 34.14 seconds\n"
     ]
    },
    {
     "data": {
      "text/plain": [
       "TaskResult(messages=[TextMessage(source='user', models_usage=None, content='Write a short poem about the fall season.', type='TextMessage'), TextMessage(source='primary', models_usage=RequestUsage(prompt_tokens=28, completion_tokens=117), content='In autumn’s golden haze, the world transforms,\\nLeaves drift like whispers through the cooling air,\\nA tapestry of amber, garnet forms,\\nAnd nature paints her scene with tender care.\\n\\nThe harvest moon spills light upon the trees,\\nWhile pumpkins line the fields in orange repose,\\nA scent of spice is carried by the breeze,\\nAnd woodsmoke curls where fading daylight goes.\\n\\nThe world slows down beneath a twilight sky,\\nWhere constellations gleam with frosty breath,\\nAnd quiet nights invite the heart’s deep sigh,\\nEmbracing fall’s sweet song of life and death.', type='TextMessage'), TextMessage(source='critic', models_usage=RequestUsage(prompt_tokens=148, completion_tokens=335), content='Your poem beautifully captures the essence and imagery of the fall season. The vivid descriptions and delicate language paint a picture that is both serene and evocative. Here are a few points of feedback to consider:\\n\\n1. **Imagery and Language**: Your use of descriptive language is excellent. Phrases like \"autumn’s golden haze\" and \"tapestry of amber, garnet\" are visually and emotionally evocative, bringing the reader directly into the fall scene.\\n\\n2. **Structure**: The poem’s structure is consistent and flows well. The traditional quatrains give it a rhythmic, almost nostalgic feel that suits the theme of fall. \\n\\n3. **Mood**: You\\'ve effectively created a contemplative and serene mood, which suits the season of fall as a time of transition and change.\\n\\n4. **Specificity**: Consider including more specific elements or imagery unique to autumn that might resonate universally. This could enhance the personal connection for readers, such as calling out specific scents or sights.\\n\\n5. **Consistency**: There might be a slight discrepancy in the line \"A tapestry of amber, garnet forms.\" The phrase seems slightly rushed due to the rhythm. You might consider rewording for smoother flow, for instance, \"A tapestry of amber, garnet forms anew.\"\\n\\n6. **Emotional Depth**: The final stanza does a great job of inviting reflection with \"quiet nights invite the heart’s deep sigh.\" It effectively culminates the emotional journey through fall.\\n\\nOverall, this is a lovely and evocative poem that captures the gentle, reflective nature of fall beautifully. Keep writing and refining—your ability to craft imagery and atmosphere is strong!', type='TextMessage'), TextMessage(source='user_proxy', models_usage=None, content='make it about Tokyo and cherry blossoms', type='TextMessage'), TextMessage(source='primary', models_usage=RequestUsage(prompt_tokens=505, completion_tokens=119), content=\"In Tokyo’s springtime haze, the city blooms,\\nAs cherry blossoms drift through silken air,\\nA fleeting blush of pink in crowded rooms,\\nWith petals painting scenes beyond compare.\\n\\nThe quiet parks fill up with laughter’s sound,\\nBeneath the trees, a sea of pink repose,\\nAs hanami keeps joy in hearts unbound,\\nWhile daylight bathes the streets in rosy glows.\\n\\nThe lanterns light the paths as twilight falls,\\nA gentle breeze stirs blossoms’ soft descent,\\nAnd Tokyo dreams beneath the moon's soft calls,\\nIn cherry blossom time, so sweetly spent.\", type='TextMessage'), TextMessage(source='critic', models_usage=RequestUsage(prompt_tokens=627, completion_tokens=282), content='Your revamped poem about Tokyo and cherry blossoms is equally enchanting. Here are some points of constructive feedback to consider:\\n\\n1. **Imagery and Language**: The imagery remains beautiful and evocative. Phrases like \"springtime haze\" and \"a sea of pink repose\" capture the essence of cherry blossom season in Tokyo vividly.\\n\\n2. **Cultural Elements**: It\\'s wonderful that you included \"hanami,\" which adds a cultural touch specific to Japan, enhancing the reader’s sense of place and tradition.\\n\\n3. **Structure and Flow**: The poem’s structure is consistent and flows smoothly. Each stanza sequentially builds the scene, providing a lovely narrative progression.\\n\\n4. **Mood**: The poem maintains a serene and joyful mood appropriate for the season and setting. The incorporation of laughter and gentle breezes adds to the tranquil atmosphere.\\n\\n5. **Specificity**: You\\'ve included specific cultural practices like hanami, which enriches the poem’s authenticity. Consider adding more details like traditional foods or sights to deepen the cultural immersion.\\n\\n6. **Emotional Depth**: The poem effectively captures the transient beauty of cherry blossoms and the peaceful feelings they evoke. Lines like \"Tokyo dreams beneath the moon\\'s soft calls\" nicely encapsulate this sentiment.\\n\\nOverall, your poem delicately and effectively captures the charm of Tokyo during cherry blossom season. Keep exploring these culturally rich and visually compelling themes in your poetry!', type='TextMessage'), TextMessage(source='user_proxy', models_usage=None, content='exit', type='TextMessage'), TextMessage(source='primary', models_usage=RequestUsage(prompt_tokens=925, completion_tokens=24), content='If you have any more questions in the future or need assistance, feel free to reach out. Have a great day!', type='TextMessage'), TextMessage(source='critic', models_usage=RequestUsage(prompt_tokens=952, completion_tokens=22), content='Understood. If you need assistance in the future, feel free to reach out. Have a wonderful day!', type='TextMessage'), TextMessage(source='user_proxy', models_usage=None, content='APPROVE', type='TextMessage')], stop_reason=\"Text 'APPROVE' mentioned\")"
      ]
     },
     "execution_count": 3,
     "metadata": {},
     "output_type": "execute_result"
    }
   ],
   "source": [
    "from autogen_agentchat.agents import AssistantAgent, UserProxyAgent\n",
    "from autogen_agentchat.conditions import TextMentionTermination\n",
    "from autogen_agentchat.teams import RoundRobinGroupChat\n",
    "from autogen_agentchat.ui import Console\n",
    "\n",
    "# Create the agents.\n",
    "# Create the primary agent.\n",
    "primary_agent = AssistantAgent(\n",
    "    \"primary\",\n",
    "    model_client=az_model_client,\n",
    "    system_message=\"You are a helpful AI assistant.\",\n",
    ")\n",
    "\n",
    "# Create the critic agent.\n",
    "critic_agent = AssistantAgent(\n",
    "    \"critic\",\n",
    "    model_client=az_model_client,\n",
    "    system_message=\"Provide constructive feedback.\",\n",
    ")\n",
    "\n",
    "# Create the user proxy agent.\n",
    "user_proxy = UserProxyAgent(\"user_proxy\", input_func=input)  # Use input() to get user input from console.\n",
    "\n",
    "# Create the termination condition which will end the conversation when the user says \"APPROVE\".\n",
    "termination = TextMentionTermination(\"APPROVE\")\n",
    "\n",
    "# Create the team.\n",
    "team = RoundRobinGroupChat([primary_agent, critic_agent, user_proxy], termination_condition=termination)\n",
    "\n",
    "# Run the conversation and stream to the console.\n",
    "stream = team.run_stream(task=\"Write a short poem about the fall season.\")\n",
    "# Use asyncio.run(...) when running in a script.\n",
    "await Console(stream)"
   ]
  },
  {
   "cell_type": "markdown",
   "metadata": {},
   "source": [
    "## Using Max Turns\n",
    "\n",
    "This method allows you to pause the team for user input by setting a maximum number of turns. \n",
    "\n",
    "To implement this, set the max_turns parameter in the RoundRobinGroupChat() constructor.\n",
    "\n",
    "Once the team stops, the turn count will be reset. \n",
    "\n",
    "When you resume the team, it will start from 0 again. However, the team’s internal state will be preserved, for example, the RoundRobinGroupChat will resume from the next agent in the list with the same conversation history."
   ]
  },
  {
   "cell_type": "code",
   "execution_count": 4,
   "metadata": {},
   "outputs": [
    {
     "name": "stdout",
     "output_type": "stream",
     "text": [
      "---------- user ----------\n",
      "Write a short poem about the fall season.\n",
      "---------- primary ----------\n",
      "In autumn’s wistful glow, the leaves descend,\n",
      "Like whispered secrets from the trees they fall,\n",
      "A symphony of colors blend and bend,\n",
      "As nature heeds her ancient, mystic call.\n",
      "\n",
      "The crisp air carries scents of earth and wood,\n",
      "Pumpkins and harvest fields in golden light,\n",
      "Each fleeting day embraced, well understood,\n",
      "As sunset frames the early autumn night.\n",
      "\n",
      "Under the starlit sky, the world takes pause,\n",
      "The quiet whispers of the season grown,\n",
      "A time for warmth, reflection, and because\n",
      "In fall, the heart finds solace in its own.\n",
      "[Prompt tokens: 969, Completion tokens: 116]\n",
      "---------- critic ----------\n",
      "Your poem captures the essence of fall beautifully, with rich imagery and a contemplative tone. Here are some points of feedback to consider:\n",
      "\n",
      "1. **Imagery and Language**: Your use of descriptive language is vivid and evocative. Phrases like \"wisftul glow\" and \"symphony of colors\" bring the imagery of fall alive. The sensory details, such as \"scents of earth and wood,\" are particularly effective.\n",
      "\n",
      "2. **Structure and Flow**: The poem has a consistent structure and a smooth flow. Each stanza transitions well into the next, allowing the reader to follow the narrative seamlessly.\n",
      "\n",
      "3. **Mood**: The poem effectively conveys a calm and reflective mood, capturing the contemplative nature of the fall season. The gentle language and serene descriptions are fitting for autumn.\n",
      "\n",
      "4. **Specificity**: You have included specific elements like \"pumpkins\" and \"harvest fields,\" which anchor the poem in the fall season. Consider adding more such details to paint an even richer scene.\n",
      "\n",
      "5. **Emotional Depth**: The poem does a good job of hinting at deeper emotions associated with fall, such as reflection and solace. Lines like \"the heart finds solace in its own\" add an introspective layer to the poem.\n",
      "\n",
      "6. **Language Usage**: In the second stanza, the line \"Pumpkins and harvest fields in golden light\" could be slightly refined for a smoother read. Perhaps consider rephrasing to maintain the rhythmic balance, such as \"Pumpkins and fields bathed in golden light.\"\n",
      "\n",
      "Overall, your poem is a lovely and evocative portrayal of the fall season. Your ability to craft imagery and evoke emotion is commendable. Keep writing and refining your work!\n",
      "[Prompt tokens: 1116, Completion tokens: 348]\n",
      "---------- Summary ----------\n",
      "Number of messages: 3\n",
      "Finish reason: Maximum number of turns 2 reached.\n",
      "Total prompt tokens: 2085\n",
      "Total completion tokens: 464\n",
      "Duration: 5.25 seconds\n",
      "---------- user ----------\n",
      "APPROVE\n",
      "---------- primary ----------\n",
      "Thank you! I'm glad you liked the poem. If you have any other requests or need further assistance, feel free to let me know. Enjoy the autumn season!\n",
      "[Prompt tokens: 1453, Completion tokens: 33]\n",
      "---------- critic ----------\n",
      "Thank you! I'm glad you liked the poem. If you have any other requests or need further assistance, feel free to let me know. Enjoy the autumn season!\n",
      "[Prompt tokens: 1517, Completion tokens: 33]\n",
      "---------- Summary ----------\n",
      "Number of messages: 3\n",
      "Finish reason: Maximum number of turns 2 reached.\n",
      "Total prompt tokens: 2970\n",
      "Total completion tokens: 66\n",
      "Duration: 1.26 seconds\n"
     ]
    }
   ],
   "source": [
    "# Create the team setting a maximum number of turns to 2.\n",
    "# One chat by agent is one turn. So 2 is needed for the two agents\n",
    "team = RoundRobinGroupChat([primary_agent, critic_agent], max_turns=2)\n",
    "\n",
    "task = \"Write a short poem about the fall season.\"\n",
    "while True:\n",
    "    # Run the conversation and stream to the console.\n",
    "    stream = team.run_stream(task=task)\n",
    "    # Use asyncio.run(...) when running in a script.\n",
    "    await Console(stream)\n",
    "    # Get the user response.\n",
    "    task = input(\"Enter your feedback (type 'exit' to leave): \")\n",
    "    if task.lower().strip() == \"exit\":\n",
    "        break"
   ]
  },
  {
   "cell_type": "markdown",
   "metadata": {},
   "source": [
    "## HandoffTermination \n",
    "HandoffTermination stops the team when an agent sends a HandoffMessage message.\n",
    "\n",
    "Note: The model used with AssistantAgent must support tool call to use the handoff feature."
   ]
  },
  {
   "cell_type": "code",
   "execution_count": 5,
   "metadata": {},
   "outputs": [
    {
     "name": "stdout",
     "output_type": "stream",
     "text": [
      "---------- user ----------\n",
      "Write a short poem about the fall season.\n",
      "---------- primary ----------\n",
      "Golden leaves in dance so fair,\n",
      "Crisp whispers brush the cooling air.\n",
      "Pumpkin hues and sunset skies,\n",
      "Autumn's beauty fills our eyes.\n",
      "\n",
      "Harvest moons and firelight glow,\n",
      "Warmth amidst the evening's cold.\n",
      "Nature's breath, a gentle sigh,\n",
      "Fall's embrace bids summer goodbye.\n",
      "[Prompt tokens: 28, Completion tokens: 61]\n",
      "---------- critic ----------\n",
      "[FunctionCall(id='call_biBQto5IJvmwh1AR9utw0Dtc', arguments='{}', name='transfer_to_user')]\n",
      "[Prompt tokens: 123, Completion tokens: 88]\n",
      "---------- critic ----------\n",
      "[FunctionExecutionResult(content='Transfer to user.', call_id='call_biBQto5IJvmwh1AR9utw0Dtc')]\n",
      "---------- critic ----------\n",
      "Transfer to user.\n",
      "---------- Summary ----------\n",
      "Number of messages: 5\n",
      "Finish reason: Handoff to user from critic detected.\n",
      "Total prompt tokens: 151\n",
      "Total completion tokens: 149\n",
      "Duration: 2.55 seconds\n"
     ]
    },
    {
     "data": {
      "text/plain": [
       "TaskResult(messages=[TextMessage(source='user', models_usage=None, content='Write a short poem about the fall season.', type='TextMessage'), TextMessage(source='primary', models_usage=RequestUsage(prompt_tokens=28, completion_tokens=61), content=\"Golden leaves in dance so fair,\\nCrisp whispers brush the cooling air.\\nPumpkin hues and sunset skies,\\nAutumn's beauty fills our eyes.\\n\\nHarvest moons and firelight glow,\\nWarmth amidst the evening's cold.\\nNature's breath, a gentle sigh,\\nFall's embrace bids summer goodbye.\", type='TextMessage'), ToolCallRequestEvent(source='critic', models_usage=RequestUsage(prompt_tokens=123, completion_tokens=88), content=[FunctionCall(id='call_biBQto5IJvmwh1AR9utw0Dtc', arguments='{}', name='transfer_to_user')], type='ToolCallRequestEvent'), ToolCallExecutionEvent(source='critic', models_usage=None, content=[FunctionExecutionResult(content='Transfer to user.', call_id='call_biBQto5IJvmwh1AR9utw0Dtc')], type='ToolCallExecutionEvent'), HandoffMessage(source='critic', models_usage=None, target='user', content='Transfer to user.', type='HandoffMessage')], stop_reason='Handoff to user from critic detected.')"
      ]
     },
     "execution_count": 5,
     "metadata": {},
     "output_type": "execute_result"
    }
   ],
   "source": [
    "from autogen_agentchat.base import Handoff\n",
    "from autogen_agentchat.conditions import HandoffTermination\n",
    "\n",
    "# Create the agents.\n",
    "# Create the primary agent.\n",
    "primary_agent = AssistantAgent(\n",
    "    \"primary\",\n",
    "    model_client=az_model_client,\n",
    "    system_message=\"You are a helpful AI assistant.\",\n",
    ")\n",
    "\n",
    "# Create the critic agent.\n",
    "critic_agent = AssistantAgent(\n",
    "    \"critic\",\n",
    "    model_client=az_model_client,\n",
    "    system_message=\"Provide constructive feedback first then transfer to user.\",\n",
    "    handoffs=[Handoff(target=\"user\", message=\"Transfer to user.\")],\n",
    ")\n",
    "\n",
    "# Define a termination condition that checks for handoff message targetting helper OR text \"APPROVE\".\n",
    "handoff_termination = HandoffTermination(target=\"user\")\n",
    "\n",
    "# Create the team.\n",
    "team = RoundRobinGroupChat([primary_agent, critic_agent], termination_condition=handoff_termination)\n",
    "\n",
    "# Run the conversation and stream to the console.\n",
    "stream = team.run_stream(task=\"Write a short poem about the fall season.\")\n",
    "# Use asyncio.run(...) when running in a script.\n",
    "await Console(stream)\n"
   ]
  }
 ],
 "metadata": {
  "kernelspec": {
   "display_name": "Python 3",
   "language": "python",
   "name": "python3"
  },
  "language_info": {
   "codemirror_mode": {
    "name": "ipython",
    "version": 3
   },
   "file_extension": ".py",
   "mimetype": "text/x-python",
   "name": "python",
   "nbconvert_exporter": "python",
   "pygments_lexer": "ipython3",
   "version": "3.12.1"
  }
 },
 "nbformat": 4,
 "nbformat_minor": 2
}
